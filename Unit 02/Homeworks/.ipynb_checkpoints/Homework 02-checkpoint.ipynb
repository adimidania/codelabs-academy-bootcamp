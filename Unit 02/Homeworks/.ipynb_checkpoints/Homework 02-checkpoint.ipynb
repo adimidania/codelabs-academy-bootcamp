{
 "cells": [
  {
   "cell_type": "markdown",
   "id": "f17f3e20",
   "metadata": {},
   "source": [
    "# Homework 02"
   ]
  },
  {
   "cell_type": "code",
   "execution_count": 1,
   "id": "a30dbe11",
   "metadata": {},
   "outputs": [],
   "source": [
    "import pandas as pd"
   ]
  },
  {
   "cell_type": "code",
   "execution_count": 2,
   "id": "884311c6",
   "metadata": {},
   "outputs": [],
   "source": [
    "df = pd.read_csv(\"videosUS.csv\")"
   ]
  },
  {
   "cell_type": "code",
   "execution_count": 15,
   "id": "3f2bdd2e",
   "metadata": {},
   "outputs": [
    {
     "data": {
      "text/html": [
       "<div>\n",
       "<style scoped>\n",
       "    .dataframe tbody tr th:only-of-type {\n",
       "        vertical-align: middle;\n",
       "    }\n",
       "\n",
       "    .dataframe tbody tr th {\n",
       "        vertical-align: top;\n",
       "    }\n",
       "\n",
       "    .dataframe thead th {\n",
       "        text-align: right;\n",
       "    }\n",
       "</style>\n",
       "<table border=\"1\" class=\"dataframe\">\n",
       "  <thead>\n",
       "    <tr style=\"text-align: right;\">\n",
       "      <th></th>\n",
       "      <th>video_id</th>\n",
       "      <th>trending_date</th>\n",
       "      <th>title</th>\n",
       "      <th>channel_title</th>\n",
       "      <th>category_id</th>\n",
       "      <th>publish_time</th>\n",
       "      <th>tags</th>\n",
       "      <th>views</th>\n",
       "      <th>likes</th>\n",
       "      <th>dislikes</th>\n",
       "      <th>comment_count</th>\n",
       "      <th>thumbnail_link</th>\n",
       "      <th>comments_disabled</th>\n",
       "      <th>ratings_disabled</th>\n",
       "      <th>video_error_or_removed</th>\n",
       "      <th>description</th>\n",
       "    </tr>\n",
       "  </thead>\n",
       "  <tbody>\n",
       "    <tr>\n",
       "      <th>0</th>\n",
       "      <td>2kyS6SvSYSE</td>\n",
       "      <td>17.14.11</td>\n",
       "      <td>WE WANT TO TALK ABOUT OUR MARRIAGE</td>\n",
       "      <td>CaseyNeistat</td>\n",
       "      <td>22.0</td>\n",
       "      <td>2017-11-13T17:13:01.000Z</td>\n",
       "      <td>SHANtell martin</td>\n",
       "      <td>748374.0</td>\n",
       "      <td>57527.0</td>\n",
       "      <td>2966.0</td>\n",
       "      <td>15954.0</td>\n",
       "      <td>https://i.ytimg.com/vi/2kyS6SvSYSE/default.jpg</td>\n",
       "      <td>False</td>\n",
       "      <td>False</td>\n",
       "      <td>False</td>\n",
       "      <td>SHANTELL'S CHANNEL - https://www.youtube.com/s...</td>\n",
       "    </tr>\n",
       "    <tr>\n",
       "      <th>1</th>\n",
       "      <td>1ZAPwfrtAFY</td>\n",
       "      <td>17.14.11</td>\n",
       "      <td>The Trump Presidency: Last Week Tonight with J...</td>\n",
       "      <td>LastWeekTonight</td>\n",
       "      <td>24.0</td>\n",
       "      <td>2017-11-13T07:30:00.000Z</td>\n",
       "      <td>last week tonight trump presidency|\"last week ...</td>\n",
       "      <td>2418783.0</td>\n",
       "      <td>97185.0</td>\n",
       "      <td>6146.0</td>\n",
       "      <td>12703.0</td>\n",
       "      <td>https://i.ytimg.com/vi/1ZAPwfrtAFY/default.jpg</td>\n",
       "      <td>False</td>\n",
       "      <td>False</td>\n",
       "      <td>False</td>\n",
       "      <td>One year after the presidential election, John...</td>\n",
       "    </tr>\n",
       "    <tr>\n",
       "      <th>2</th>\n",
       "      <td>5qpjK5DgCt4</td>\n",
       "      <td>17.14.11</td>\n",
       "      <td>Racist Superman | Rudy Mancuso, King Bach &amp; Le...</td>\n",
       "      <td>Rudy Mancuso</td>\n",
       "      <td>23.0</td>\n",
       "      <td>2017-11-12T19:05:24.000Z</td>\n",
       "      <td>racist superman|\"rudy\"|\"mancuso\"|\"king\"|\"bach\"...</td>\n",
       "      <td>3191434.0</td>\n",
       "      <td>146033.0</td>\n",
       "      <td>5339.0</td>\n",
       "      <td>8181.0</td>\n",
       "      <td>https://i.ytimg.com/vi/5qpjK5DgCt4/default.jpg</td>\n",
       "      <td>False</td>\n",
       "      <td>False</td>\n",
       "      <td>False</td>\n",
       "      <td>WATCH MY PREVIOUS VIDEO ▶ \\n\\nSUBSCRIBE ► http...</td>\n",
       "    </tr>\n",
       "  </tbody>\n",
       "</table>\n",
       "</div>"
      ],
      "text/plain": [
       "      video_id trending_date  \\\n",
       "0  2kyS6SvSYSE      17.14.11   \n",
       "1  1ZAPwfrtAFY      17.14.11   \n",
       "2  5qpjK5DgCt4      17.14.11   \n",
       "\n",
       "                                               title    channel_title  \\\n",
       "0                 WE WANT TO TALK ABOUT OUR MARRIAGE     CaseyNeistat   \n",
       "1  The Trump Presidency: Last Week Tonight with J...  LastWeekTonight   \n",
       "2  Racist Superman | Rudy Mancuso, King Bach & Le...     Rudy Mancuso   \n",
       "\n",
       "   category_id              publish_time  \\\n",
       "0         22.0  2017-11-13T17:13:01.000Z   \n",
       "1         24.0  2017-11-13T07:30:00.000Z   \n",
       "2         23.0  2017-11-12T19:05:24.000Z   \n",
       "\n",
       "                                                tags      views     likes  \\\n",
       "0                                    SHANtell martin   748374.0   57527.0   \n",
       "1  last week tonight trump presidency|\"last week ...  2418783.0   97185.0   \n",
       "2  racist superman|\"rudy\"|\"mancuso\"|\"king\"|\"bach\"...  3191434.0  146033.0   \n",
       "\n",
       "   dislikes  comment_count                                  thumbnail_link  \\\n",
       "0    2966.0        15954.0  https://i.ytimg.com/vi/2kyS6SvSYSE/default.jpg   \n",
       "1    6146.0        12703.0  https://i.ytimg.com/vi/1ZAPwfrtAFY/default.jpg   \n",
       "2    5339.0         8181.0  https://i.ytimg.com/vi/5qpjK5DgCt4/default.jpg   \n",
       "\n",
       "  comments_disabled ratings_disabled video_error_or_removed  \\\n",
       "0             False            False                  False   \n",
       "1             False            False                  False   \n",
       "2             False            False                  False   \n",
       "\n",
       "                                         description  \n",
       "0  SHANTELL'S CHANNEL - https://www.youtube.com/s...  \n",
       "1  One year after the presidential election, John...  \n",
       "2  WATCH MY PREVIOUS VIDEO ▶ \\n\\nSUBSCRIBE ► http...  "
      ]
     },
     "execution_count": 15,
     "metadata": {},
     "output_type": "execute_result"
    }
   ],
   "source": [
    "# How the data looks like\n",
    "df.head(3)"
   ]
  },
  {
   "cell_type": "code",
   "execution_count": 6,
   "id": "884241b2",
   "metadata": {},
   "outputs": [
    {
     "data": {
      "text/plain": [
       "41415"
      ]
     },
     "execution_count": 6,
     "metadata": {},
     "output_type": "execute_result"
    }
   ],
   "source": [
    "len(df)"
   ]
  },
  {
   "cell_type": "markdown",
   "id": "f7d27399",
   "metadata": {},
   "source": [
    "### How many missing values within the dataset "
   ]
  },
  {
   "cell_type": "markdown",
   "id": "6bf021b0",
   "metadata": {},
   "source": [
    "#### In each column"
   ]
  },
  {
   "cell_type": "code",
   "execution_count": 12,
   "id": "a2da8ee6",
   "metadata": {},
   "outputs": [
    {
     "data": {
      "text/plain": [
       "video_id                     0\n",
       "trending_date              466\n",
       "title                      466\n",
       "channel_title              466\n",
       "category_id                466\n",
       "publish_time               466\n",
       "tags                       466\n",
       "views                      466\n",
       "likes                      466\n",
       "dislikes                   466\n",
       "comment_count              466\n",
       "thumbnail_link             466\n",
       "comments_disabled          466\n",
       "ratings_disabled           466\n",
       "video_error_or_removed     466\n",
       "description               1036\n",
       "dtype: int64"
      ]
     },
     "execution_count": 12,
     "metadata": {},
     "output_type": "execute_result"
    }
   ],
   "source": [
    "df.isna().sum()"
   ]
  },
  {
   "cell_type": "code",
   "execution_count": 14,
   "id": "a2d839f7",
   "metadata": {},
   "outputs": [
    {
     "data": {
      "text/html": [
       "<div>\n",
       "<style scoped>\n",
       "    .dataframe tbody tr th:only-of-type {\n",
       "        vertical-align: middle;\n",
       "    }\n",
       "\n",
       "    .dataframe tbody tr th {\n",
       "        vertical-align: top;\n",
       "    }\n",
       "\n",
       "    .dataframe thead th {\n",
       "        text-align: right;\n",
       "    }\n",
       "</style>\n",
       "<table border=\"1\" class=\"dataframe\">\n",
       "  <thead>\n",
       "    <tr style=\"text-align: right;\">\n",
       "      <th></th>\n",
       "      <th>video_id</th>\n",
       "      <th>trending_date</th>\n",
       "      <th>title</th>\n",
       "      <th>channel_title</th>\n",
       "      <th>category_id</th>\n",
       "      <th>publish_time</th>\n",
       "      <th>tags</th>\n",
       "      <th>views</th>\n",
       "      <th>likes</th>\n",
       "      <th>dislikes</th>\n",
       "      <th>comment_count</th>\n",
       "      <th>thumbnail_link</th>\n",
       "      <th>comments_disabled</th>\n",
       "      <th>ratings_disabled</th>\n",
       "      <th>video_error_or_removed</th>\n",
       "      <th>description</th>\n",
       "    </tr>\n",
       "  </thead>\n",
       "  <tbody>\n",
       "    <tr>\n",
       "      <th>53</th>\n",
       "      <td>\\nSubscribe to WWE on YouTube: http://bit.ly/1...</td>\n",
       "      <td>NaN</td>\n",
       "      <td>NaN</td>\n",
       "      <td>NaN</td>\n",
       "      <td>NaN</td>\n",
       "      <td>NaN</td>\n",
       "      <td>NaN</td>\n",
       "      <td>NaN</td>\n",
       "      <td>NaN</td>\n",
       "      <td>NaN</td>\n",
       "      <td>NaN</td>\n",
       "      <td>NaN</td>\n",
       "      <td>NaN</td>\n",
       "      <td>NaN</td>\n",
       "      <td>NaN</td>\n",
       "      <td>NaN</td>\n",
       "    </tr>\n",
       "    <tr>\n",
       "      <th>54</th>\n",
       "      <td>\\nVisit WWE.com: http://goo.gl/akf0J4</td>\n",
       "      <td>NaN</td>\n",
       "      <td>NaN</td>\n",
       "      <td>NaN</td>\n",
       "      <td>NaN</td>\n",
       "      <td>NaN</td>\n",
       "      <td>NaN</td>\n",
       "      <td>NaN</td>\n",
       "      <td>NaN</td>\n",
       "      <td>NaN</td>\n",
       "      <td>NaN</td>\n",
       "      <td>NaN</td>\n",
       "      <td>NaN</td>\n",
       "      <td>NaN</td>\n",
       "      <td>NaN</td>\n",
       "      <td>NaN</td>\n",
       "    </tr>\n",
       "    <tr>\n",
       "      <th>55</th>\n",
       "      <td>\\nMust-See WWE videos on YouTube: https://goo....</td>\n",
       "      <td>NaN</td>\n",
       "      <td>NaN</td>\n",
       "      <td>NaN</td>\n",
       "      <td>NaN</td>\n",
       "      <td>NaN</td>\n",
       "      <td>NaN</td>\n",
       "      <td>NaN</td>\n",
       "      <td>NaN</td>\n",
       "      <td>NaN</td>\n",
       "      <td>NaN</td>\n",
       "      <td>NaN</td>\n",
       "      <td>NaN</td>\n",
       "      <td>NaN</td>\n",
       "      <td>NaN</td>\n",
       "      <td>NaN</td>\n",
       "    </tr>\n",
       "    <tr>\n",
       "      <th>319</th>\n",
       "      <td>\\nSubscribe to WWE on YouTube: http://bit.ly/1...</td>\n",
       "      <td>NaN</td>\n",
       "      <td>NaN</td>\n",
       "      <td>NaN</td>\n",
       "      <td>NaN</td>\n",
       "      <td>NaN</td>\n",
       "      <td>NaN</td>\n",
       "      <td>NaN</td>\n",
       "      <td>NaN</td>\n",
       "      <td>NaN</td>\n",
       "      <td>NaN</td>\n",
       "      <td>NaN</td>\n",
       "      <td>NaN</td>\n",
       "      <td>NaN</td>\n",
       "      <td>NaN</td>\n",
       "      <td>NaN</td>\n",
       "    </tr>\n",
       "    <tr>\n",
       "      <th>320</th>\n",
       "      <td>\\nVisit WWE.com: http://goo.gl/akf0J4</td>\n",
       "      <td>NaN</td>\n",
       "      <td>NaN</td>\n",
       "      <td>NaN</td>\n",
       "      <td>NaN</td>\n",
       "      <td>NaN</td>\n",
       "      <td>NaN</td>\n",
       "      <td>NaN</td>\n",
       "      <td>NaN</td>\n",
       "      <td>NaN</td>\n",
       "      <td>NaN</td>\n",
       "      <td>NaN</td>\n",
       "      <td>NaN</td>\n",
       "      <td>NaN</td>\n",
       "      <td>NaN</td>\n",
       "      <td>NaN</td>\n",
       "    </tr>\n",
       "    <tr>\n",
       "      <th>...</th>\n",
       "      <td>...</td>\n",
       "      <td>...</td>\n",
       "      <td>...</td>\n",
       "      <td>...</td>\n",
       "      <td>...</td>\n",
       "      <td>...</td>\n",
       "      <td>...</td>\n",
       "      <td>...</td>\n",
       "      <td>...</td>\n",
       "      <td>...</td>\n",
       "      <td>...</td>\n",
       "      <td>...</td>\n",
       "      <td>...</td>\n",
       "      <td>...</td>\n",
       "      <td>...</td>\n",
       "      <td>...</td>\n",
       "    </tr>\n",
       "    <tr>\n",
       "      <th>36570</th>\n",
       "      <td>Follow me on Twitter ► https://twitter.com/mar...</td>\n",
       "      <td>NaN</td>\n",
       "      <td>NaN</td>\n",
       "      <td>NaN</td>\n",
       "      <td>NaN</td>\n",
       "      <td>NaN</td>\n",
       "      <td>NaN</td>\n",
       "      <td>NaN</td>\n",
       "      <td>NaN</td>\n",
       "      <td>NaN</td>\n",
       "      <td>NaN</td>\n",
       "      <td>NaN</td>\n",
       "      <td>NaN</td>\n",
       "      <td>NaN</td>\n",
       "      <td>NaN</td>\n",
       "      <td>NaN</td>\n",
       "    </tr>\n",
       "    <tr>\n",
       "      <th>36571</th>\n",
       "      <td>Like me on Facebook ► https://www.facebook.com...</td>\n",
       "      <td>NaN</td>\n",
       "      <td>NaN</td>\n",
       "      <td>NaN</td>\n",
       "      <td>NaN</td>\n",
       "      <td>NaN</td>\n",
       "      <td>NaN</td>\n",
       "      <td>NaN</td>\n",
       "      <td>NaN</td>\n",
       "      <td>NaN</td>\n",
       "      <td>NaN</td>\n",
       "      <td>NaN</td>\n",
       "      <td>NaN</td>\n",
       "      <td>NaN</td>\n",
       "      <td>NaN</td>\n",
       "      <td>NaN</td>\n",
       "    </tr>\n",
       "    <tr>\n",
       "      <th>36572</th>\n",
       "      <td>Join us on Reddit! ► https://www.reddit.com/r/...</td>\n",
       "      <td>NaN</td>\n",
       "      <td>NaN</td>\n",
       "      <td>NaN</td>\n",
       "      <td>NaN</td>\n",
       "      <td>NaN</td>\n",
       "      <td>NaN</td>\n",
       "      <td>NaN</td>\n",
       "      <td>NaN</td>\n",
       "      <td>NaN</td>\n",
       "      <td>NaN</td>\n",
       "      <td>NaN</td>\n",
       "      <td>NaN</td>\n",
       "      <td>NaN</td>\n",
       "      <td>NaN</td>\n",
       "      <td>NaN</td>\n",
       "    </tr>\n",
       "    <tr>\n",
       "      <th>36573</th>\n",
       "      <td>Horror Outro ► https://soundcloud.com/shurkoff...</td>\n",
       "      <td>NaN</td>\n",
       "      <td>NaN</td>\n",
       "      <td>NaN</td>\n",
       "      <td>NaN</td>\n",
       "      <td>NaN</td>\n",
       "      <td>NaN</td>\n",
       "      <td>NaN</td>\n",
       "      <td>NaN</td>\n",
       "      <td>NaN</td>\n",
       "      <td>NaN</td>\n",
       "      <td>NaN</td>\n",
       "      <td>NaN</td>\n",
       "      <td>NaN</td>\n",
       "      <td>NaN</td>\n",
       "      <td>NaN</td>\n",
       "    </tr>\n",
       "    <tr>\n",
       "      <th>36574</th>\n",
       "      <td>Happy Outro ► https://soundcloud.com/hielia/mi...</td>\n",
       "      <td>NaN</td>\n",
       "      <td>NaN</td>\n",
       "      <td>NaN</td>\n",
       "      <td>NaN</td>\n",
       "      <td>NaN</td>\n",
       "      <td>NaN</td>\n",
       "      <td>NaN</td>\n",
       "      <td>NaN</td>\n",
       "      <td>NaN</td>\n",
       "      <td>NaN</td>\n",
       "      <td>NaN</td>\n",
       "      <td>NaN</td>\n",
       "      <td>NaN</td>\n",
       "      <td>NaN</td>\n",
       "      <td>NaN</td>\n",
       "    </tr>\n",
       "  </tbody>\n",
       "</table>\n",
       "<p>466 rows × 16 columns</p>\n",
       "</div>"
      ],
      "text/plain": [
       "                                                video_id trending_date title  \\\n",
       "53     \\nSubscribe to WWE on YouTube: http://bit.ly/1...           NaN   NaN   \n",
       "54                 \\nVisit WWE.com: http://goo.gl/akf0J4           NaN   NaN   \n",
       "55     \\nMust-See WWE videos on YouTube: https://goo....           NaN   NaN   \n",
       "319    \\nSubscribe to WWE on YouTube: http://bit.ly/1...           NaN   NaN   \n",
       "320                \\nVisit WWE.com: http://goo.gl/akf0J4           NaN   NaN   \n",
       "...                                                  ...           ...   ...   \n",
       "36570  Follow me on Twitter ► https://twitter.com/mar...           NaN   NaN   \n",
       "36571  Like me on Facebook ► https://www.facebook.com...           NaN   NaN   \n",
       "36572  Join us on Reddit! ► https://www.reddit.com/r/...           NaN   NaN   \n",
       "36573  Horror Outro ► https://soundcloud.com/shurkoff...           NaN   NaN   \n",
       "36574  Happy Outro ► https://soundcloud.com/hielia/mi...           NaN   NaN   \n",
       "\n",
       "      channel_title  category_id publish_time tags  views  likes  dislikes  \\\n",
       "53              NaN          NaN          NaN  NaN    NaN    NaN       NaN   \n",
       "54              NaN          NaN          NaN  NaN    NaN    NaN       NaN   \n",
       "55              NaN          NaN          NaN  NaN    NaN    NaN       NaN   \n",
       "319             NaN          NaN          NaN  NaN    NaN    NaN       NaN   \n",
       "320             NaN          NaN          NaN  NaN    NaN    NaN       NaN   \n",
       "...             ...          ...          ...  ...    ...    ...       ...   \n",
       "36570           NaN          NaN          NaN  NaN    NaN    NaN       NaN   \n",
       "36571           NaN          NaN          NaN  NaN    NaN    NaN       NaN   \n",
       "36572           NaN          NaN          NaN  NaN    NaN    NaN       NaN   \n",
       "36573           NaN          NaN          NaN  NaN    NaN    NaN       NaN   \n",
       "36574           NaN          NaN          NaN  NaN    NaN    NaN       NaN   \n",
       "\n",
       "       comment_count thumbnail_link comments_disabled ratings_disabled  \\\n",
       "53               NaN            NaN               NaN              NaN   \n",
       "54               NaN            NaN               NaN              NaN   \n",
       "55               NaN            NaN               NaN              NaN   \n",
       "319              NaN            NaN               NaN              NaN   \n",
       "320              NaN            NaN               NaN              NaN   \n",
       "...              ...            ...               ...              ...   \n",
       "36570            NaN            NaN               NaN              NaN   \n",
       "36571            NaN            NaN               NaN              NaN   \n",
       "36572            NaN            NaN               NaN              NaN   \n",
       "36573            NaN            NaN               NaN              NaN   \n",
       "36574            NaN            NaN               NaN              NaN   \n",
       "\n",
       "      video_error_or_removed description  \n",
       "53                       NaN         NaN  \n",
       "54                       NaN         NaN  \n",
       "55                       NaN         NaN  \n",
       "319                      NaN         NaN  \n",
       "320                      NaN         NaN  \n",
       "...                      ...         ...  \n",
       "36570                    NaN         NaN  \n",
       "36571                    NaN         NaN  \n",
       "36572                    NaN         NaN  \n",
       "36573                    NaN         NaN  \n",
       "36574                    NaN         NaN  \n",
       "\n",
       "[466 rows x 16 columns]"
      ]
     },
     "execution_count": 14,
     "metadata": {},
     "output_type": "execute_result"
    }
   ],
   "source": [
    "df[df.title.isna()]"
   ]
  },
  {
   "cell_type": "markdown",
   "id": "e4cedbb0",
   "metadata": {},
   "source": [
    "#### My assumption about why we have these missing values"
   ]
  },
  {
   "cell_type": "markdown",
   "id": "1bef811a",
   "metadata": {},
   "source": [
    "Looking at the previous two results, we can clearly see that there's 466 missing value in each column (except the description, and video_id columns), and actually, these 466 missing values are common to the same videos. Maybe it means that these videos were deleted or can't be shared on public. Therefore, we can delete them.\n",
    "The description column though, has 1036 missing values, which is pretty normal I guess, since descriptions are usually optional."
   ]
  },
  {
   "cell_type": "markdown",
   "id": "e43079b9",
   "metadata": {},
   "source": [
    "#### Getting rid of the 466 columns"
   ]
  },
  {
   "cell_type": "code",
   "execution_count": 16,
   "id": "456e0d55",
   "metadata": {},
   "outputs": [],
   "source": [
    "df.drop(df[(df.title.isna())].index, inplace=True)"
   ]
  },
  {
   "cell_type": "code",
   "execution_count": 18,
   "id": "6f878ad7",
   "metadata": {},
   "outputs": [
    {
     "data": {
      "text/html": [
       "<div>\n",
       "<style scoped>\n",
       "    .dataframe tbody tr th:only-of-type {\n",
       "        vertical-align: middle;\n",
       "    }\n",
       "\n",
       "    .dataframe tbody tr th {\n",
       "        vertical-align: top;\n",
       "    }\n",
       "\n",
       "    .dataframe thead th {\n",
       "        text-align: right;\n",
       "    }\n",
       "</style>\n",
       "<table border=\"1\" class=\"dataframe\">\n",
       "  <thead>\n",
       "    <tr style=\"text-align: right;\">\n",
       "      <th></th>\n",
       "      <th>video_id</th>\n",
       "      <th>trending_date</th>\n",
       "      <th>title</th>\n",
       "      <th>channel_title</th>\n",
       "      <th>category_id</th>\n",
       "      <th>publish_time</th>\n",
       "      <th>tags</th>\n",
       "      <th>views</th>\n",
       "      <th>likes</th>\n",
       "      <th>dislikes</th>\n",
       "      <th>comment_count</th>\n",
       "      <th>thumbnail_link</th>\n",
       "      <th>comments_disabled</th>\n",
       "      <th>ratings_disabled</th>\n",
       "      <th>video_error_or_removed</th>\n",
       "      <th>description</th>\n",
       "    </tr>\n",
       "  </thead>\n",
       "  <tbody>\n",
       "  </tbody>\n",
       "</table>\n",
       "</div>"
      ],
      "text/plain": [
       "Empty DataFrame\n",
       "Columns: [video_id, trending_date, title, channel_title, category_id, publish_time, tags, views, likes, dislikes, comment_count, thumbnail_link, comments_disabled, ratings_disabled, video_error_or_removed, description]\n",
       "Index: []"
      ]
     },
     "execution_count": 18,
     "metadata": {},
     "output_type": "execute_result"
    }
   ],
   "source": [
    "df[df.title.isna()]"
   ]
  },
  {
   "cell_type": "markdown",
   "id": "66578be5",
   "metadata": {},
   "source": [
    "### Mean , Median , and Quartiles of each numerical variable within this dataset."
   ]
  },
  {
   "cell_type": "code",
   "execution_count": 20,
   "id": "0f2427c7",
   "metadata": {},
   "outputs": [],
   "source": [
    "columns = [\"views\", \"likes\", \"dislikes\", \"comment_count\"]"
   ]
  },
  {
   "cell_type": "markdown",
   "id": "26f080fd",
   "metadata": {},
   "source": [
    "#### Mean"
   ]
  },
  {
   "cell_type": "code",
   "execution_count": 23,
   "id": "93c36c73",
   "metadata": {},
   "outputs": [
    {
     "name": "stdout",
     "output_type": "stream",
     "text": [
      "Mean of views : 2360784.6382573447\n",
      "Mean of likes : 74266.7024347359\n",
      "Mean of dislikes : 3711.400888910596\n",
      "Mean of comment_count : 8446.803682629612\n"
     ]
    }
   ],
   "source": [
    "for column in columns:\n",
    "    print(\"Mean of\", column, \":\", df[column].mean())"
   ]
  },
  {
   "cell_type": "markdown",
   "id": "03afc020",
   "metadata": {},
   "source": [
    "#### Median"
   ]
  },
  {
   "cell_type": "code",
   "execution_count": 24,
   "id": "248a2628",
   "metadata": {},
   "outputs": [
    {
     "name": "stdout",
     "output_type": "stream",
     "text": [
      "Median of views : 681861.0\n",
      "Median of likes : 18091.0\n",
      "Median of dislikes : 631.0\n",
      "Median of comment_count : 1856.0\n"
     ]
    }
   ],
   "source": [
    "for column in columns:\n",
    "    print(\"Median of\", column, \":\", df[column].median())"
   ]
  },
  {
   "cell_type": "markdown",
   "id": "1c7ed070",
   "metadata": {},
   "source": [
    "#### Quartiles"
   ]
  },
  {
   "cell_type": "code",
   "execution_count": 29,
   "id": "e6812d79",
   "metadata": {},
   "outputs": [
    {
     "name": "stdout",
     "output_type": "stream",
     "text": [
      "Quartiles of views\n",
      " 25% : 242329.0\n",
      " 50% : 681861.0\n",
      " 75% : 1823157.0\n",
      "\n",
      "\n",
      "Quartiles of likes\n",
      " 25% : 5424.0\n",
      " 50% : 18091.0\n",
      " 75% : 55417.0\n",
      "\n",
      "\n",
      "Quartiles of dislikes\n",
      " 25% : 202.0\n",
      " 50% : 631.0\n",
      " 75% : 1938.0\n",
      "\n",
      "\n",
      "Quartiles of comment_count\n",
      " 25% : 614.0\n",
      " 50% : 1856.0\n",
      " 75% : 5755.0\n",
      "\n",
      "\n"
     ]
    }
   ],
   "source": [
    "for column in columns:\n",
    "    print(\"Quartiles of\", column)\n",
    "    print(\" 25% :\", df[column].quantile(0.25))\n",
    "    print(\" 50% :\", df[column].quantile(0.50))\n",
    "    print(\" 75% :\", df[column].quantile(0.75))\n",
    "    print(\"\\n\")"
   ]
  },
  {
   "cell_type": "markdown",
   "id": "e52770d9",
   "metadata": {},
   "source": [
    "I could have used df.describe() but I just wanted to display only Mean, Mediane, and Quartiles, and I didn't want to take the category_id into consideration, I don't know if it's good or not."
   ]
  },
  {
   "cell_type": "markdown",
   "id": "306f21ee",
   "metadata": {},
   "source": [
    "### Spot the possible outliers in your dataset and get rid of them."
   ]
  },
  {
   "cell_type": "markdown",
   "id": "d78229fb",
   "metadata": {},
   "source": [
    "#### Calculating the z-scores"
   ]
  },
  {
   "cell_type": "code",
   "execution_count": 30,
   "id": "964a31e7",
   "metadata": {},
   "outputs": [],
   "source": [
    "df[\"views_zscore\"] = (df.views - df.views.mean()) / df.views.std()\n",
    "df[\"likes_zscore\"] = (df.likes - df.likes.mean()) / df.likes.std()\n",
    "df[\"dislikes_zscore\"] = (df.dislikes - df.dislikes.mean()) / df.dislikes.std()\n",
    "df[\"comment_count_zscore\"] = (df.comment_count - df.comment_count.mean()) / df.comment_count.std()"
   ]
  }
 ],
 "metadata": {
  "kernelspec": {
   "display_name": "Python 3 (ipykernel)",
   "language": "python",
   "name": "python3"
  },
  "language_info": {
   "codemirror_mode": {
    "name": "ipython",
    "version": 3
   },
   "file_extension": ".py",
   "mimetype": "text/x-python",
   "name": "python",
   "nbconvert_exporter": "python",
   "pygments_lexer": "ipython3",
   "version": "3.8.12"
  }
 },
 "nbformat": 4,
 "nbformat_minor": 5
}
