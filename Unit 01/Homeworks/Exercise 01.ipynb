{
 "cells": [
  {
   "cell_type": "markdown",
   "id": "130d288c",
   "metadata": {},
   "source": [
    "# Strings & Lists"
   ]
  },
  {
   "cell_type": "markdown",
   "id": "0f1511c9",
   "metadata": {},
   "source": [
    "1. Create a list that contains all the even numbers between 1 and 299"
   ]
  },
  {
   "cell_type": "code",
   "execution_count": 4,
   "id": "c6f493f3",
   "metadata": {},
   "outputs": [],
   "source": [
    "evenList = []\n",
    "for i in range(1, 300):\n",
    "    if (i % 2 == 0):\n",
    "        evenList.append(i)"
   ]
  },
  {
   "cell_type": "code",
   "execution_count": 5,
   "id": "3c9c9087",
   "metadata": {},
   "outputs": [
    {
     "name": "stdout",
     "output_type": "stream",
     "text": [
      "[2, 4, 6, 8, 10, 12, 14, 16, 18, 20, 22, 24, 26, 28, 30, 32, 34, 36, 38, 40, 42, 44, 46, 48, 50, 52, 54, 56, 58, 60, 62, 64, 66, 68, 70, 72, 74, 76, 78, 80, 82, 84, 86, 88, 90, 92, 94, 96, 98, 100, 102, 104, 106, 108, 110, 112, 114, 116, 118, 120, 122, 124, 126, 128, 130, 132, 134, 136, 138, 140, 142, 144, 146, 148, 150, 152, 154, 156, 158, 160, 162, 164, 166, 168, 170, 172, 174, 176, 178, 180, 182, 184, 186, 188, 190, 192, 194, 196, 198, 200, 202, 204, 206, 208, 210, 212, 214, 216, 218, 220, 222, 224, 226, 228, 230, 232, 234, 236, 238, 240, 242, 244, 246, 248, 250, 252, 254, 256, 258, 260, 262, 264, 266, 268, 270, 272, 274, 276, 278, 280, 282, 284, 286, 288, 290, 292, 294, 296, 298]\n"
     ]
    }
   ],
   "source": [
    "print(evenList)"
   ]
  },
  {
   "cell_type": "markdown",
   "id": "5fb5af3d",
   "metadata": {},
   "source": [
    "2. Iterate through the previously created list and print first the length of the list then all the squared values of the list."
   ]
  },
  {
   "cell_type": "code",
   "execution_count": 7,
   "id": "b23e53d0",
   "metadata": {},
   "outputs": [
    {
     "name": "stdout",
     "output_type": "stream",
     "text": [
      "The length of the list is :  149\n"
     ]
    }
   ],
   "source": [
    "print(\"The length of the list is : \", len(evenList))"
   ]
  },
  {
   "cell_type": "code",
   "execution_count": 8,
   "id": "7d65f24c",
   "metadata": {},
   "outputs": [
    {
     "name": "stdout",
     "output_type": "stream",
     "text": [
      "4\n",
      "16\n",
      "36\n",
      "64\n",
      "100\n",
      "144\n",
      "196\n",
      "256\n",
      "324\n",
      "400\n",
      "484\n",
      "576\n",
      "676\n",
      "784\n",
      "900\n",
      "1024\n",
      "1156\n",
      "1296\n",
      "1444\n",
      "1600\n",
      "1764\n",
      "1936\n",
      "2116\n",
      "2304\n",
      "2500\n",
      "2704\n",
      "2916\n",
      "3136\n",
      "3364\n",
      "3600\n",
      "3844\n",
      "4096\n",
      "4356\n",
      "4624\n",
      "4900\n",
      "5184\n",
      "5476\n",
      "5776\n",
      "6084\n",
      "6400\n",
      "6724\n",
      "7056\n",
      "7396\n",
      "7744\n",
      "8100\n",
      "8464\n",
      "8836\n",
      "9216\n",
      "9604\n",
      "10000\n",
      "10404\n",
      "10816\n",
      "11236\n",
      "11664\n",
      "12100\n",
      "12544\n",
      "12996\n",
      "13456\n",
      "13924\n",
      "14400\n",
      "14884\n",
      "15376\n",
      "15876\n",
      "16384\n",
      "16900\n",
      "17424\n",
      "17956\n",
      "18496\n",
      "19044\n",
      "19600\n",
      "20164\n",
      "20736\n",
      "21316\n",
      "21904\n",
      "22500\n",
      "23104\n",
      "23716\n",
      "24336\n",
      "24964\n",
      "25600\n",
      "26244\n",
      "26896\n",
      "27556\n",
      "28224\n",
      "28900\n",
      "29584\n",
      "30276\n",
      "30976\n",
      "31684\n",
      "32400\n",
      "33124\n",
      "33856\n",
      "34596\n",
      "35344\n",
      "36100\n",
      "36864\n",
      "37636\n",
      "38416\n",
      "39204\n",
      "40000\n",
      "40804\n",
      "41616\n",
      "42436\n",
      "43264\n",
      "44100\n",
      "44944\n",
      "45796\n",
      "46656\n",
      "47524\n",
      "48400\n",
      "49284\n",
      "50176\n",
      "51076\n",
      "51984\n",
      "52900\n",
      "53824\n",
      "54756\n",
      "55696\n",
      "56644\n",
      "57600\n",
      "58564\n",
      "59536\n",
      "60516\n",
      "61504\n",
      "62500\n",
      "63504\n",
      "64516\n",
      "65536\n",
      "66564\n",
      "67600\n",
      "68644\n",
      "69696\n",
      "70756\n",
      "71824\n",
      "72900\n",
      "73984\n",
      "75076\n",
      "76176\n",
      "77284\n",
      "78400\n",
      "79524\n",
      "80656\n",
      "81796\n",
      "82944\n",
      "84100\n",
      "85264\n",
      "86436\n",
      "87616\n",
      "88804\n"
     ]
    }
   ],
   "source": [
    "for i in evenList:\n",
    "    print(i**2)"
   ]
  },
  {
   "cell_type": "markdown",
   "id": "d5613b17",
   "metadata": {},
   "source": [
    "3. In one line check if 57 is in the list using one line of python."
   ]
  },
  {
   "cell_type": "code",
   "execution_count": 9,
   "id": "4cbd510d",
   "metadata": {},
   "outputs": [
    {
     "name": "stdout",
     "output_type": "stream",
     "text": [
      "False\n"
     ]
    }
   ],
   "source": [
    "print(57 in evenList)"
   ]
  }
 ],
 "metadata": {
  "kernelspec": {
   "display_name": "Python 3",
   "language": "python",
   "name": "python3"
  },
  "language_info": {
   "codemirror_mode": {
    "name": "ipython",
    "version": 3
   },
   "file_extension": ".py",
   "mimetype": "text/x-python",
   "name": "python",
   "nbconvert_exporter": "python",
   "pygments_lexer": "ipython3",
   "version": "3.8.8"
  }
 },
 "nbformat": 4,
 "nbformat_minor": 5
}
