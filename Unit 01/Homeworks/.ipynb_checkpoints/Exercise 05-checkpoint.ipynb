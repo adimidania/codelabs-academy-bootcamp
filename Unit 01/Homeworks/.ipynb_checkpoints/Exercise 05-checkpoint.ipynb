{
 "cells": [
  {
   "cell_type": "markdown",
   "id": "4f5f193d",
   "metadata": {},
   "source": [
    "# OOP "
   ]
  },
  {
   "cell_type": "markdown",
   "id": "7de09a2a",
   "metadata": {},
   "source": [
    "1. Write a Python class named Rectangle constructed by a length and width and a method which will compute the area of a rectangle."
   ]
  },
  {
   "cell_type": "code",
   "execution_count": 1,
   "id": "a9a83339",
   "metadata": {},
   "outputs": [],
   "source": [
    "class Rectangle:\n",
    "    def __init__(self, length, width):\n",
    "        self.length = length\n",
    "        self.width = width\n",
    "    def calculateArea(self):\n",
    "        return self.width * self.length"
   ]
  },
  {
   "cell_type": "code",
   "execution_count": 2,
   "id": "ccabc829",
   "metadata": {},
   "outputs": [
    {
     "data": {
      "text/plain": [
       "200"
      ]
     },
     "execution_count": 2,
     "metadata": {},
     "output_type": "execute_result"
    }
   ],
   "source": [
    "r = Rectangle(20,10)\n",
    "r.calculateArea()"
   ]
  },
  {
   "cell_type": "markdown",
   "id": "9f8b9894",
   "metadata": {},
   "source": [
    "2. Create a Vehicle class with max_speed and mileage instance attributes."
   ]
  },
  {
   "cell_type": "code",
   "execution_count": 5,
   "id": "89c11dab",
   "metadata": {},
   "outputs": [],
   "source": [
    "class Vehicule:\n",
    "    def __init__(self, max_speed, mileage):\n",
    "        self.max_speed = max_speed\n",
    "        self.mileage = mileage\n",
    "    # Optional Methods\n",
    "    def updateMaxSpeed(self, speed):\n",
    "        self.max_speed = speed\n",
    "    def updateMileage(self, mileage):\n",
    "        self.mileage = mileage\n",
    "    def getMaxSpeed(self):\n",
    "        return self.max_speed "
   ]
  },
  {
   "cell_type": "code",
   "execution_count": 6,
   "id": "7d8cf0c6",
   "metadata": {},
   "outputs": [
    {
     "data": {
      "text/plain": [
       "200"
      ]
     },
     "execution_count": 6,
     "metadata": {},
     "output_type": "execute_result"
    }
   ],
   "source": [
    "v = Vehicule(100,30)\n",
    "v.updateMaxSpeed(200)\n",
    "v.getMaxSpeed()"
   ]
  },
  {
   "cell_type": "markdown",
   "id": "e8b3633f",
   "metadata": {},
   "source": [
    "3. Create a Vehicle class without any variables and methods."
   ]
  },
  {
   "cell_type": "code",
   "execution_count": 7,
   "id": "206023bb",
   "metadata": {},
   "outputs": [],
   "source": [
    "class Vehicule:\n",
    "    pass"
   ]
  },
  {
   "cell_type": "markdown",
   "id": "b8d29363",
   "metadata": {},
   "source": [
    "4. Create a child class Bus that will inherit all of the variables and methods of the Vehicle class"
   ]
  },
  {
   "cell_type": "code",
   "execution_count": 8,
   "id": "56a8cd9f",
   "metadata": {},
   "outputs": [],
   "source": [
    "class Bus(Vehicule):\n",
    "    pass"
   ]
  }
 ],
 "metadata": {
  "kernelspec": {
   "display_name": "Python 3",
   "language": "python",
   "name": "python3"
  },
  "language_info": {
   "codemirror_mode": {
    "name": "ipython",
    "version": 3
   },
   "file_extension": ".py",
   "mimetype": "text/x-python",
   "name": "python",
   "nbconvert_exporter": "python",
   "pygments_lexer": "ipython3",
   "version": "3.8.8"
  }
 },
 "nbformat": 4,
 "nbformat_minor": 5
}
