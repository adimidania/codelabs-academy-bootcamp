{
 "cells": [
  {
   "cell_type": "markdown",
   "id": "65dfba98",
   "metadata": {},
   "source": [
    "# Functions"
   ]
  },
  {
   "cell_type": "markdown",
   "id": "77919c4d",
   "metadata": {},
   "source": [
    "1. Write a Python function that checks whether a passed string is palindrome or not."
   ]
  },
  {
   "cell_type": "code",
   "execution_count": 1,
   "id": "694814c2",
   "metadata": {},
   "outputs": [],
   "source": [
    "def isPalindrom(word):\n",
    "    initial = word\n",
    "    # Getting the word ready!\n",
    "    word = word.replace(\" \", \"\")\n",
    "    word = word.lower()\n",
    "    # The reversed word\n",
    "    wordReversed = word[::-1]\n",
    "    if(word == wordReversed):\n",
    "        print(initial + \" is a palindrom!\")\n",
    "    else:\n",
    "        print(initial + \" is not a palindrom!\")"
   ]
  },
  {
   "cell_type": "code",
   "execution_count": 2,
   "id": "1d610f77",
   "metadata": {},
   "outputs": [
    {
     "name": "stdout",
     "output_type": "stream",
     "text": [
      "madam is a palindrom!\n"
     ]
    }
   ],
   "source": [
    "isPalindrom(\"madam\")"
   ]
  },
  {
   "cell_type": "code",
   "execution_count": 3,
   "id": "6cdf9c45",
   "metadata": {},
   "outputs": [
    {
     "name": "stdout",
     "output_type": "stream",
     "text": [
      "Dania is not a palindrom!\n"
     ]
    }
   ],
   "source": [
    "isPalindrom(\"Dania\")"
   ]
  },
  {
   "cell_type": "markdown",
   "id": "d5e740ca",
   "metadata": {},
   "source": [
    "2. Write a Python function that takes a number as a parameter and checks if the number is prime or not"
   ]
  },
  {
   "cell_type": "code",
   "execution_count": 4,
   "id": "aca60bb1",
   "metadata": {},
   "outputs": [],
   "source": [
    "def isPrime(number):\n",
    "    if(number == 1): return True\n",
    "    elif(number < 1): return False\n",
    "    else:\n",
    "        for i in range(2,number//2):\n",
    "            if(number % i == 0):\n",
    "                return False\n",
    "        return True"
   ]
  },
  {
   "cell_type": "code",
   "execution_count": 7,
   "id": "88053295",
   "metadata": {},
   "outputs": [
    {
     "data": {
      "text/plain": [
       "True"
      ]
     },
     "execution_count": 7,
     "metadata": {},
     "output_type": "execute_result"
    }
   ],
   "source": [
    "isPrime(13)"
   ]
  },
  {
   "cell_type": "code",
   "execution_count": 6,
   "id": "ba313df0",
   "metadata": {},
   "outputs": [
    {
     "data": {
      "text/plain": [
       "False"
      ]
     },
     "execution_count": 6,
     "metadata": {},
     "output_type": "execute_result"
    }
   ],
   "source": [
    "isPrime(14)"
   ]
  },
  {
   "cell_type": "markdown",
   "id": "2f99cc84",
   "metadata": {},
   "source": [
    "3. Write a Python function to check whether a number is in a given range."
   ]
  },
  {
   "cell_type": "code",
   "execution_count": 8,
   "id": "c981d524",
   "metadata": {},
   "outputs": [],
   "source": [
    "def isInRange(number,a,b):\n",
    "    # [a,b]\n",
    "    if(a>b):\n",
    "        b = a + b # b contains a + b\n",
    "        a = b - a # a contains a + b - a which means b\n",
    "        b = b - a # b contains a + b - b which means a\n",
    "    if (number >= a and number <= b):\n",
    "        return True\n",
    "    else:\n",
    "        return False"
   ]
  },
  {
   "cell_type": "code",
   "execution_count": 9,
   "id": "83bbe37c",
   "metadata": {},
   "outputs": [
    {
     "data": {
      "text/plain": [
       "True"
      ]
     },
     "execution_count": 9,
     "metadata": {},
     "output_type": "execute_result"
    }
   ],
   "source": [
    "isInRange(3,2,5)"
   ]
  },
  {
   "cell_type": "code",
   "execution_count": 10,
   "id": "f92e581f",
   "metadata": {},
   "outputs": [
    {
     "data": {
      "text/plain": [
       "True"
      ]
     },
     "execution_count": 10,
     "metadata": {},
     "output_type": "execute_result"
    }
   ],
   "source": [
    "isInRange(3,5,1)"
   ]
  },
  {
   "cell_type": "code",
   "execution_count": 11,
   "id": "9c152c4d",
   "metadata": {},
   "outputs": [
    {
     "data": {
      "text/plain": [
       "False"
      ]
     },
     "execution_count": 11,
     "metadata": {},
     "output_type": "execute_result"
    }
   ],
   "source": [
    "isInRange(3,4,5)"
   ]
  },
  {
   "cell_type": "markdown",
   "id": "1634642c",
   "metadata": {},
   "source": [
    "4. Write a Python function to calculate the factorial of a number (a non-negative integer). "
   ]
  },
  {
   "cell_type": "code",
   "execution_count": 12,
   "id": "729e56f4",
   "metadata": {},
   "outputs": [],
   "source": [
    "def fact(x):\n",
    "    if(x<0):\n",
    "        print(\"Negative numbers don't admit a factorial!\")\n",
    "    elif(x == 0 or x == 1): return 1\n",
    "    else:\n",
    "        factorial = 1\n",
    "        for i in range(2,x+1):\n",
    "            factorial = factorial * i\n",
    "        return factorial"
   ]
  },
  {
   "cell_type": "code",
   "execution_count": 13,
   "id": "932a7927",
   "metadata": {},
   "outputs": [
    {
     "data": {
      "text/plain": [
       "120"
      ]
     },
     "execution_count": 13,
     "metadata": {},
     "output_type": "execute_result"
    }
   ],
   "source": [
    "fact(5)"
   ]
  },
  {
   "cell_type": "markdown",
   "id": "7e80c3fd",
   "metadata": {},
   "source": [
    "5. Write a Python program to reverse a string."
   ]
  },
  {
   "cell_type": "code",
   "execution_count": 14,
   "id": "2a940e58",
   "metadata": {},
   "outputs": [],
   "source": [
    "def reverseString(word):\n",
    "    reversed = word.lower()\n",
    "    return reversed[::-1]"
   ]
  },
  {
   "cell_type": "code",
   "execution_count": 15,
   "id": "71a4b5e7",
   "metadata": {},
   "outputs": [
    {
     "data": {
      "text/plain": [
       "'madam'"
      ]
     },
     "execution_count": 15,
     "metadata": {},
     "output_type": "execute_result"
    }
   ],
   "source": [
    "reverseString(\"Madam\")"
   ]
  },
  {
   "cell_type": "code",
   "execution_count": 17,
   "id": "a1c2612f",
   "metadata": {},
   "outputs": [
    {
     "data": {
      "text/plain": [
       "'atad'"
      ]
     },
     "execution_count": 17,
     "metadata": {},
     "output_type": "execute_result"
    }
   ],
   "source": [
    "reverseString(\"Data\")"
   ]
  },
  {
   "cell_type": "markdown",
   "id": "8ab2b12d",
   "metadata": {},
   "source": [
    "6. Write a Python function to sum all the numbers in a list."
   ]
  },
  {
   "cell_type": "code",
   "execution_count": 18,
   "id": "533804d1",
   "metadata": {},
   "outputs": [],
   "source": [
    "def sumList(list):\n",
    "    sum = 0\n",
    "    for i in range(len(list)):\n",
    "        sum = sum + list[i]\n",
    "    return sum"
   ]
  },
  {
   "cell_type": "code",
   "execution_count": 19,
   "id": "a59735ab",
   "metadata": {},
   "outputs": [
    {
     "data": {
      "text/plain": [
       "21"
      ]
     },
     "execution_count": 19,
     "metadata": {},
     "output_type": "execute_result"
    }
   ],
   "source": [
    "sumList([1,2,3,4,5,6])"
   ]
  },
  {
   "cell_type": "markdown",
   "id": "ef05a608",
   "metadata": {},
   "source": [
    "7. Write a Python function to find the Max of three numbers."
   ]
  },
  {
   "cell_type": "code",
   "execution_count": 20,
   "id": "1bf97414",
   "metadata": {},
   "outputs": [],
   "source": [
    "def maxThree(a,b,c):\n",
    "    max = a\n",
    "    if(b>max):\n",
    "        max = b\n",
    "    if(c>max):\n",
    "        max = c\n",
    "    return max"
   ]
  },
  {
   "cell_type": "code",
   "execution_count": 21,
   "id": "baa6b661",
   "metadata": {},
   "outputs": [
    {
     "data": {
      "text/plain": [
       "3"
      ]
     },
     "execution_count": 21,
     "metadata": {},
     "output_type": "execute_result"
    }
   ],
   "source": [
    "maxThree(1,2,3)"
   ]
  },
  {
   "cell_type": "code",
   "execution_count": 22,
   "id": "1da517b5",
   "metadata": {},
   "outputs": [
    {
     "data": {
      "text/plain": [
       "20"
      ]
     },
     "execution_count": 22,
     "metadata": {},
     "output_type": "execute_result"
    }
   ],
   "source": [
    "maxThree(20,7,8)"
   ]
  }
 ],
 "metadata": {
  "kernelspec": {
   "display_name": "Python 3",
   "language": "python",
   "name": "python3"
  },
  "language_info": {
   "codemirror_mode": {
    "name": "ipython",
    "version": 3
   },
   "file_extension": ".py",
   "mimetype": "text/x-python",
   "name": "python",
   "nbconvert_exporter": "python",
   "pygments_lexer": "ipython3",
   "version": "3.8.8"
  }
 },
 "nbformat": 4,
 "nbformat_minor": 5
}
