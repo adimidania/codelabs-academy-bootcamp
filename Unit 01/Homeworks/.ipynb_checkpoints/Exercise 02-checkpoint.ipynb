{
 "cells": [
  {
   "cell_type": "markdown",
   "id": "a3fc6417",
   "metadata": {},
   "source": [
    "# Input & Output"
   ]
  },
  {
   "cell_type": "markdown",
   "id": "d544e5e9",
   "metadata": {},
   "source": [
    "1. Read all of the content of the file in one variable."
   ]
  },
  {
   "cell_type": "code",
   "execution_count": 28,
   "id": "a7468211",
   "metadata": {
    "scrolled": true
   },
   "outputs": [],
   "source": [
    "file = open(\"./Files/student_names.txt\", \"r\")\n",
    "students = file.read()\n",
    "file.close()"
   ]
  },
  {
   "cell_type": "markdown",
   "id": "095c50e9",
   "metadata": {},
   "source": [
    "2. Write a list of random names to your file."
   ]
  },
  {
   "cell_type": "code",
   "execution_count": 29,
   "id": "830eca6e",
   "metadata": {},
   "outputs": [],
   "source": [
    "file = open(\"./Files/student_names.txt\", \"a\")\n",
    "students = students + \"Kassandra Pineda\\n\" + \"Kallie Valencia\\n\" + \"Brett Mccullough\\n\""
   ]
  },
  {
   "cell_type": "code",
   "execution_count": 30,
   "id": "f71ed331",
   "metadata": {},
   "outputs": [
    {
     "data": {
      "text/plain": [
       "519"
      ]
     },
     "execution_count": 30,
     "metadata": {},
     "output_type": "execute_result"
    }
   ],
   "source": [
    "file.write(students)"
   ]
  },
  {
   "cell_type": "markdown",
   "id": "11375534",
   "metadata": {},
   "source": [
    "3. Read the first n lines of the file."
   ]
  },
  {
   "cell_type": "code",
   "execution_count": 31,
   "id": "f3684a30",
   "metadata": {},
   "outputs": [
    {
     "data": {
      "text/plain": [
       "'Alexis York\\nSidney Allison\\nGunnar Esparza\\nPaul Charles\\nJulio Carson\\nShawn Osborn\\nJasmin Morales\\nDonte Castillo\\nJourney Keith\\nGrady Hanna\\nCameron Buck\\nIyana Chavez\\nCarla Cuevas\\nDraven Ortega\\nJocelyn Stephenson\\nEsther Weiss\\nDevin Glenn\\nDakota Garner\\nGianni Mora\\nJakob Rosario\\nCharlie Meyers\\nEdith Hunt\\nCecelia Mason\\nGina Gillespie\\nAlisha Baird\\nErica Mcdaniel\\nPaula Roman\\nHumberto Ayers\\nLayne Hester\\nTy Anthony\\nSean Gross\\nKassandra Pineda\\nKallie Valencia\\nBrett Mccullough\\nKassandra Pineda\\nKallie Valencia\\nBrett Mccullough\\n'"
      ]
     },
     "execution_count": 31,
     "metadata": {},
     "output_type": "execute_result"
    }
   ],
   "source": [
    "students"
   ]
  },
  {
   "cell_type": "code",
   "execution_count": 34,
   "id": "07862b1a",
   "metadata": {
    "scrolled": true
   },
   "outputs": [
    {
     "name": "stdout",
     "output_type": "stream",
     "text": [
      "n = 12\n"
     ]
    }
   ],
   "source": [
    "file = open(\"./Files/student_names.txt\", \"r\")\n",
    "number_of_lines = input(\"n = \")"
   ]
  },
  {
   "cell_type": "code",
   "execution_count": 35,
   "id": "1c319eb0",
   "metadata": {
    "scrolled": true
   },
   "outputs": [
    {
     "name": "stdout",
     "output_type": "stream",
     "text": [
      "['Alexis York\\n', 'Sidney Allison\\n', 'Gunnar Esparza\\n', 'Paul Charles\\n', 'Julio Carson\\n', 'Shawn Osborn\\n', 'Jasmin Morales\\n', 'Donte Castillo\\n', 'Journey Keith\\n', 'Grady Hanna\\n', 'Cameron Buck\\n', 'Iyana Chavez\\n']\n"
     ]
    }
   ],
   "source": [
    "lines = file.readlines()\n",
    "print(lines[:int(number_of_lines)])"
   ]
  },
  {
   "cell_type": "markdown",
   "id": "3f4351f6",
   "metadata": {},
   "source": [
    "4. Read the last n lines of the file."
   ]
  },
  {
   "cell_type": "code",
   "execution_count": 36,
   "id": "65a5f8f0",
   "metadata": {},
   "outputs": [
    {
     "name": "stdout",
     "output_type": "stream",
     "text": [
      "n = 2\n"
     ]
    }
   ],
   "source": [
    "number_of_lines = input(\"n = \")"
   ]
  },
  {
   "cell_type": "code",
   "execution_count": 37,
   "id": "a74ba684",
   "metadata": {},
   "outputs": [
    {
     "name": "stdout",
     "output_type": "stream",
     "text": [
      "['Kallie Valencia\\n', 'Brett Mccullough\\n']\n"
     ]
    }
   ],
   "source": [
    "print(lines[-int(number_of_lines):])"
   ]
  },
  {
   "cell_type": "markdown",
   "id": "efb06212",
   "metadata": {},
   "source": [
    "5. Check if the name x is in the file."
   ]
  },
  {
   "cell_type": "code",
   "execution_count": 39,
   "id": "65459fae",
   "metadata": {},
   "outputs": [
    {
     "name": "stdout",
     "output_type": "stream",
     "text": [
      "Enter the FULL name you are looking for : Rym Fouzari\n"
     ]
    }
   ],
   "source": [
    "x = input(\"Enter the FULL name you are looking for : \")"
   ]
  },
  {
   "cell_type": "code",
   "execution_count": 40,
   "id": "a1e56982",
   "metadata": {},
   "outputs": [],
   "source": [
    "# The title() method returns a string where the first character in every word is upper case.\n",
    "x = x.title()"
   ]
  },
  {
   "cell_type": "code",
   "execution_count": 42,
   "id": "15edd9f0",
   "metadata": {},
   "outputs": [],
   "source": [
    "file = open(\"./Files/student_names.txt\", \"r\")"
   ]
  },
  {
   "cell_type": "code",
   "execution_count": 43,
   "id": "18d04493",
   "metadata": {},
   "outputs": [],
   "source": [
    "students = file.read()"
   ]
  },
  {
   "cell_type": "code",
   "execution_count": 44,
   "id": "4938a55a",
   "metadata": {},
   "outputs": [
    {
     "name": "stdout",
     "output_type": "stream",
     "text": [
      "The name you just entered doesn't exist in the file.\n",
      "\n"
     ]
    }
   ],
   "source": [
    "if(x in students):\n",
    "    print(\"The name you just entered exists in the file.\\n\")\n",
    "else:\n",
    "    print(\"The name you just entered doesn't exist in the file.\\n\")"
   ]
  },
  {
   "cell_type": "markdown",
   "id": "addd8a26",
   "metadata": {},
   "source": [
    "6. Write a Python program to generate 26 text files named A.txt, B.txt, and so on up to Z.txt."
   ]
  },
  {
   "cell_type": "code",
   "execution_count": 46,
   "id": "47b4cb6f",
   "metadata": {},
   "outputs": [],
   "source": [
    "import string"
   ]
  },
  {
   "cell_type": "code",
   "execution_count": 47,
   "id": "166f0569",
   "metadata": {},
   "outputs": [],
   "source": [
    "alphabet = string.ascii_uppercase\n",
    "for item in alphabet:\n",
    "    path = \"./Files/\" + item + \".txt\"\n",
    "    f = open(path, \"w\")"
   ]
  },
  {
   "cell_type": "markdown",
   "id": "107d66ac",
   "metadata": {},
   "source": [
    "7. List all the names beginning with an A in the 'students.txt' file"
   ]
  },
  {
   "cell_type": "code",
   "execution_count": 48,
   "id": "24f4913c",
   "metadata": {},
   "outputs": [],
   "source": [
    "def beginsWithA(name):\n",
    "    if(name[0] == \"A\"):\n",
    "        return True\n",
    "    else:\n",
    "        return False"
   ]
  },
  {
   "cell_type": "code",
   "execution_count": 56,
   "id": "58ad173a",
   "metadata": {},
   "outputs": [],
   "source": [
    "def namesBeginWithA(students_list):\n",
    "    print(\"The list of names beginning with an A . . . \\n\")\n",
    "    for student in students_list:\n",
    "        if(beginsWithA(student)): \n",
    "            print(student)"
   ]
  },
  {
   "cell_type": "code",
   "execution_count": 54,
   "id": "cd7e5767",
   "metadata": {},
   "outputs": [],
   "source": [
    "file = open(\"./Files/student_names.txt\", \"r\")\n",
    "students = file.readlines()"
   ]
  },
  {
   "cell_type": "code",
   "execution_count": 57,
   "id": "b4fda4a1",
   "metadata": {},
   "outputs": [
    {
     "name": "stdout",
     "output_type": "stream",
     "text": [
      "The list of names beginning with an A . . . \n",
      "\n",
      "Alexis York\n",
      "\n",
      "Alisha Baird\n",
      "\n",
      "Alexis York\n",
      "\n",
      "Alisha Baird\n",
      "\n"
     ]
    }
   ],
   "source": [
    "namesBeginWithA(students)"
   ]
  },
  {
   "cell_type": "code",
   "execution_count": 58,
   "id": "845ee21b",
   "metadata": {},
   "outputs": [],
   "source": [
    "file.close()"
   ]
  }
 ],
 "metadata": {
  "kernelspec": {
   "display_name": "Python 3",
   "language": "python",
   "name": "python3"
  },
  "language_info": {
   "codemirror_mode": {
    "name": "ipython",
    "version": 3
   },
   "file_extension": ".py",
   "mimetype": "text/x-python",
   "name": "python",
   "nbconvert_exporter": "python",
   "pygments_lexer": "ipython3",
   "version": "3.8.8"
  }
 },
 "nbformat": 4,
 "nbformat_minor": 5
}
