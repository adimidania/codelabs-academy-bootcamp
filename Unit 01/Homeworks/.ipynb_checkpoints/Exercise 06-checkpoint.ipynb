{
 "cells": [
  {
   "cell_type": "markdown",
   "id": "5cd231e4",
   "metadata": {},
   "source": [
    "## Linear Algebra"
   ]
  },
  {
   "cell_type": "code",
   "execution_count": 1,
   "id": "32fd2637",
   "metadata": {},
   "outputs": [],
   "source": [
    "import numpy as np"
   ]
  },
  {
   "cell_type": "markdown",
   "id": "15acb418",
   "metadata": {},
   "source": [
    "1. Reading a matrix from the user."
   ]
  },
  {
   "cell_type": "code",
   "execution_count": 5,
   "id": "4188ab1a",
   "metadata": {},
   "outputs": [
    {
     "name": "stdout",
     "output_type": "stream",
     "text": [
      "The number of rows = 2\n",
      "The number of columns = 2\n"
     ]
    }
   ],
   "source": [
    "while True:\n",
    "    try:\n",
    "        n = int(input(\"The number of rows = \"))\n",
    "        m = int(input(\"The number of columns = \"))\n",
    "    except ValueError:\n",
    "        print(\"\\n\")\n",
    "        print(\"ValueError : Please enter an integer.\")\n",
    "        continue\n",
    "    if (n <= 0 or m<=0):\n",
    "        print(\"\\n\")\n",
    "        print(\"Please enter positive values.\")\n",
    "        continue\n",
    "    else:\n",
    "        break"
   ]
  },
  {
   "cell_type": "code",
   "execution_count": 45,
   "id": "7d8d3aa1",
   "metadata": {
    "scrolled": true
   },
   "outputs": [
    {
     "name": "stdout",
     "output_type": "stream",
     "text": [
      "Please enter the entries rowwise:\n",
      "\n",
      "1\n",
      "0\n",
      "0\n",
      "1\n"
     ]
    }
   ],
   "source": [
    "# Initialize matrix\n",
    "matrix = []\n",
    "print(\"Please enter the entries rowwise:\\n\")\n",
    "\n",
    "for i in range(n):          # A for loop for row entries\n",
    "    a =[]\n",
    "    for j in range(m):      # A for loop for column entries\n",
    "         a.append(float(input()))\n",
    "    matrix.append(a)"
   ]
  },
  {
   "cell_type": "code",
   "execution_count": 46,
   "id": "cead9be8",
   "metadata": {},
   "outputs": [
    {
     "data": {
      "text/plain": [
       "[[1.0, 0.0], [0.0, 1.0]]"
      ]
     },
     "execution_count": 46,
     "metadata": {},
     "output_type": "execute_result"
    }
   ],
   "source": [
    "matrix"
   ]
  },
  {
   "cell_type": "code",
   "execution_count": 61,
   "id": "a1918f21",
   "metadata": {},
   "outputs": [
    {
     "data": {
      "text/plain": [
       "array([[1., 0.],\n",
       "       [0., 1.]])"
      ]
     },
     "execution_count": 61,
     "metadata": {},
     "output_type": "execute_result"
    }
   ],
   "source": [
    "# Using numpy\n",
    "M = np.array(matrix)\n",
    "N = np.array(matrix)\n",
    "M"
   ]
  },
  {
   "cell_type": "markdown",
   "id": "0a334a6e",
   "metadata": {},
   "source": [
    "2. Transpose of the matrix"
   ]
  },
  {
   "cell_type": "code",
   "execution_count": 48,
   "id": "703d8048",
   "metadata": {},
   "outputs": [
    {
     "name": "stdout",
     "output_type": "stream",
     "text": [
      "The transpose of the matrix:\n"
     ]
    },
    {
     "data": {
      "text/plain": [
       "array([[1., 0.],\n",
       "       [0., 1.]])"
      ]
     },
     "execution_count": 48,
     "metadata": {},
     "output_type": "execute_result"
    }
   ],
   "source": [
    "print(\"The transpose of the matrix:\")\n",
    "M.T"
   ]
  },
  {
   "cell_type": "markdown",
   "id": "60c8afb4",
   "metadata": {},
   "source": [
    "3. Checking if the matrix is one or many of the special types we've seen (diagonal, triagonal, identity)"
   ]
  },
  {
   "cell_type": "code",
   "execution_count": 49,
   "id": "56f3a1b9",
   "metadata": {},
   "outputs": [],
   "source": [
    "# Check if the matrix M is Diagonal\n",
    "def isDiagonal(m):\n",
    "    s = M.shape\n",
    "    for i in range(s[0]):\n",
    "        for j in range(s[1]):\n",
    "            if(i != j and M[i][j] != 0):\n",
    "                return False\n",
    "    return True"
   ]
  },
  {
   "cell_type": "code",
   "execution_count": 50,
   "id": "f22fbddd",
   "metadata": {},
   "outputs": [],
   "source": [
    "# Check if the matrix M is Triangular (Lower)\n",
    "def isTriangularL(m):\n",
    "    s = M.shape\n",
    "    for i in range(s[0]):\n",
    "        for j in range(s[1]):\n",
    "            if(i < j and M[i][j] != 0):\n",
    "                return False\n",
    "    return True"
   ]
  },
  {
   "cell_type": "code",
   "execution_count": 51,
   "id": "c8a3dc3a",
   "metadata": {},
   "outputs": [],
   "source": [
    "# Check if the matrix M is Triangular (Upper)\n",
    "def isTriangularU(m):\n",
    "    s = M.shape\n",
    "    for i in range(s[0]):\n",
    "        for j in range(s[1]):\n",
    "            if(i > j and M[i][j] != 0):\n",
    "                return False\n",
    "    return True"
   ]
  },
  {
   "cell_type": "code",
   "execution_count": 54,
   "id": "3622c833",
   "metadata": {},
   "outputs": [
    {
     "name": "stdout",
     "output_type": "stream",
     "text": [
      "The matrix M is diagonal!\n",
      "The matrix M is triangular!\n",
      "The matrix M is an identity matrix!\n"
     ]
    }
   ],
   "source": [
    "if(n != m):\n",
    "    print(\"The matrix can't be one of the special types we've seen, because It's not a square matrix\")\n",
    "else:\n",
    "    # Diagonal \n",
    "    if(isDiagonal(M)):\n",
    "        print(\"The matrix M is diagonal!\")\n",
    "    else:\n",
    "        print(\"The matrix M isn't diagonal!\")\n",
    "    # Triangonal\n",
    "    if(isTriangularL(M) or isTriangularU(M)):\n",
    "        print(\"The matrix M is triangular!\")\n",
    "    else:\n",
    "        print(\"The matrix M isn't triangular!\")\n",
    "    # Identity\n",
    "    if(np.array_equal(M, np.identity(M.shape[0]))):\n",
    "        print(\"The matrix M is an identity matrix!\")\n",
    "    else:\n",
    "        print(\"The matrix M isn't an identity matrix!\") \n",
    "        "
   ]
  },
  {
   "cell_type": "markdown",
   "id": "cae7dc41",
   "metadata": {},
   "source": [
    "3. Calculating norms L1, L2 of the first column of our matrix M"
   ]
  },
  {
   "cell_type": "code",
   "execution_count": 55,
   "id": "be1e2264",
   "metadata": {},
   "outputs": [],
   "source": [
    "from numpy.linalg import norm"
   ]
  },
  {
   "cell_type": "code",
   "execution_count": 62,
   "id": "5a8916ba",
   "metadata": {},
   "outputs": [
    {
     "data": {
      "text/plain": [
       "array([1., 0.])"
      ]
     },
     "execution_count": 62,
     "metadata": {},
     "output_type": "execute_result"
    }
   ],
   "source": [
    "# Getting the first column of our matrix M\n",
    "v = np.array(M.T[0])\n",
    "v"
   ]
  },
  {
   "cell_type": "code",
   "execution_count": 65,
   "id": "9b746df9",
   "metadata": {},
   "outputs": [
    {
     "data": {
      "text/plain": [
       "1.0"
      ]
     },
     "execution_count": 65,
     "metadata": {},
     "output_type": "execute_result"
    }
   ],
   "source": [
    "# L1 norm\n",
    "l1 = norm(v,1)\n",
    "l1"
   ]
  },
  {
   "cell_type": "code",
   "execution_count": 66,
   "id": "283df6e9",
   "metadata": {},
   "outputs": [
    {
     "data": {
      "text/plain": [
       "1.0"
      ]
     },
     "execution_count": 66,
     "metadata": {},
     "output_type": "execute_result"
    }
   ],
   "source": [
    "# L2 norm\n",
    "l2 = norm(v)\n",
    "l2"
   ]
  }
 ],
 "metadata": {
  "kernelspec": {
   "display_name": "Python 3 (ipykernel)",
   "language": "python",
   "name": "python3"
  },
  "language_info": {
   "codemirror_mode": {
    "name": "ipython",
    "version": 3
   },
   "file_extension": ".py",
   "mimetype": "text/x-python",
   "name": "python",
   "nbconvert_exporter": "python",
   "pygments_lexer": "ipython3",
   "version": "3.8.12"
  }
 },
 "nbformat": 4,
 "nbformat_minor": 5
}
