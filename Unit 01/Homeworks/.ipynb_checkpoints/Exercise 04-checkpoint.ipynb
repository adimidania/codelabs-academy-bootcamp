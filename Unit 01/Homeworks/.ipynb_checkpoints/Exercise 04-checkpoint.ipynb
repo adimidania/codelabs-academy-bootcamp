{
 "cells": [
  {
   "cell_type": "markdown",
   "id": "82250802",
   "metadata": {},
   "source": [
    "# Exception"
   ]
  },
  {
   "cell_type": "markdown",
   "id": "425348b3",
   "metadata": {},
   "source": [
    "1. Read the following code and change it so that it treats the possible exceptions that might arise"
   ]
  },
  {
   "cell_type": "code",
   "execution_count": 4,
   "id": "7cdb57c2",
   "metadata": {},
   "outputs": [
    {
     "name": "stdout",
     "output_type": "stream",
     "text": [
      "a = Hello\n",
      "s = Dania\n"
     ]
    }
   ],
   "source": [
    "a = input(\"a = \")\n",
    "s = input(\"s = \")"
   ]
  },
  {
   "cell_type": "code",
   "execution_count": 5,
   "id": "edbcf627",
   "metadata": {},
   "outputs": [
    {
     "name": "stdout",
     "output_type": "stream",
     "text": [
      "HelloDania\n",
      "Been printed using original data types\n",
      "End of the program.\n"
     ]
    }
   ],
   "source": [
    "try:\n",
    "\tprint(a + s) # will raise TypeError\n",
    "\tprint(\"Been printed using original data types\")\n",
    "except TypeError: # will handle only TypeError\n",
    "\tprint(str(a) + s)\n",
    "\tprint(\"Been rinted using type-casted data types\")\n",
    "finally:\n",
    "    print(\"End of the program.\")"
   ]
  }
 ],
 "metadata": {
  "kernelspec": {
   "display_name": "Python 3",
   "language": "python",
   "name": "python3"
  },
  "language_info": {
   "codemirror_mode": {
    "name": "ipython",
    "version": 3
   },
   "file_extension": ".py",
   "mimetype": "text/x-python",
   "name": "python",
   "nbconvert_exporter": "python",
   "pygments_lexer": "ipython3",
   "version": "3.8.8"
  }
 },
 "nbformat": 4,
 "nbformat_minor": 5
}
