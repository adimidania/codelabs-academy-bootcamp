{
 "cells": [
  {
   "cell_type": "markdown",
   "id": "07337ae8",
   "metadata": {},
   "source": [
    "# Homework 05"
   ]
  },
  {
   "cell_type": "code",
   "execution_count": 21,
   "id": "533d5eb0",
   "metadata": {},
   "outputs": [],
   "source": [
    "# I Would really appreciate to get help on this one, I tried multiple times to fix this problem, I can't install Autosklearn\n",
    "# on windows, I tried to switch to Linux (on VM) and still didn't work, soo I couldn't do the second part of this homework."
   ]
  },
  {
   "cell_type": "code",
   "execution_count": 13,
   "id": "ca4fb974",
   "metadata": {},
   "outputs": [],
   "source": [
    "from sklearn.datasets import load_breast_cancer\n",
    "from sklearn.model_selection import train_test_split\n",
    "from sklearn.metrics import accuracy_score "
   ]
  },
  {
   "cell_type": "code",
   "execution_count": 8,
   "id": "4727119f",
   "metadata": {},
   "outputs": [],
   "source": [
    "import warnings\n",
    "warnings.filterwarnings(\"ignore\")"
   ]
  },
  {
   "cell_type": "code",
   "execution_count": 9,
   "id": "82dfc92b",
   "metadata": {},
   "outputs": [],
   "source": [
    "from sklearn.datasets import load_digits\n",
    "\n",
    "X,y = load_digits(return_X_y=True)\n",
    "X_train,X_test,y_train,y_test = train_test_split(X,y,test_size=0.2,random_state=42)"
   ]
  },
  {
   "cell_type": "code",
   "execution_count": 11,
   "id": "f96d23df",
   "metadata": {},
   "outputs": [],
   "source": [
    "# Read this to understand hyperparameters: \n",
    "# https://towardsdatascience.com/hyperparameter-tuning-for-support-vector-machines-c-and-gamma-parameters-6a5097416167\n",
    "tuned_parameters = [{'kernel':['rbf','linear'],'gamma':(1e-3,1e-4),'C':[1,10,100,1000]}]"
   ]
  },
  {
   "cell_type": "code",
   "execution_count": 12,
   "id": "8451798d",
   "metadata": {},
   "outputs": [],
   "source": [
    "# Evaluation Metrics\n",
    "scores = ['precision', 'recall'] "
   ]
  },
  {
   "cell_type": "code",
   "execution_count": 17,
   "id": "65c2d9fc",
   "metadata": {},
   "outputs": [],
   "source": [
    "from sklearn.svm import SVC\n",
    "from sklearn.model_selection import GridSearchCV\n",
    "from sklearn.metrics import classification_report"
   ]
  },
  {
   "cell_type": "code",
   "execution_count": 18,
   "id": "e2847df7",
   "metadata": {},
   "outputs": [],
   "source": [
    "def grid_search(X_train, y_train, X_test, y_test, tunes_params, metric):\n",
    "    print('Turning hyperparameters for %s' %metric)\n",
    "    clf = GridSearchCV(SVC(),tuned_parameters,scoring ='%s_macro'%metric)\n",
    "    clf.fit(X_train,y_train)\n",
    "    print('The Best hyperparameters found are the followings')\n",
    "    print(clf.best_params_)\n",
    "    print('Grid scores on development set:')\n",
    "    print(clf.best_estimator_)\n",
    "    print()\n",
    "    # Steps how we reached the best hyperparameters\n",
    "    means = clf.cv_results_['mean_test_score']\n",
    "    stds = clf.cv_results_['std_test_score']\n",
    "    for mean, std, params in zip(means,stds,clf.cv_results_['params']) :\n",
    "        print ('%0.3f (+/-%0.03f) for %r'\n",
    "        %(mean,std*2,params))\n",
    "        \n",
    "    print('classification report')\n",
    "    y_true,y_pred = y_test, clf.predict(X_test)\n",
    "    print(classification_report(y_true,y_pred))\n"
   ]
  },
  {
   "cell_type": "code",
   "execution_count": 19,
   "id": "28f6b56f",
   "metadata": {},
   "outputs": [
    {
     "name": "stdout",
     "output_type": "stream",
     "text": [
      "Turning hyperparameters for precision\n",
      "The Best hyperparameters found are the followings\n",
      "{'C': 10, 'gamma': 0.001, 'kernel': 'rbf'}\n",
      "Grid scores on development set:\n",
      "SVC(C=10, gamma=0.001)\n",
      "\n",
      "0.988 (+/-0.008) for {'C': 1, 'gamma': 0.001, 'kernel': 'rbf'}\n",
      "0.972 (+/-0.016) for {'C': 1, 'gamma': 0.001, 'kernel': 'linear'}\n",
      "0.971 (+/-0.018) for {'C': 1, 'gamma': 0.0001, 'kernel': 'rbf'}\n",
      "0.972 (+/-0.016) for {'C': 1, 'gamma': 0.0001, 'kernel': 'linear'}\n",
      "0.990 (+/-0.007) for {'C': 10, 'gamma': 0.001, 'kernel': 'rbf'}\n",
      "0.972 (+/-0.016) for {'C': 10, 'gamma': 0.001, 'kernel': 'linear'}\n",
      "0.983 (+/-0.012) for {'C': 10, 'gamma': 0.0001, 'kernel': 'rbf'}\n",
      "0.972 (+/-0.016) for {'C': 10, 'gamma': 0.0001, 'kernel': 'linear'}\n",
      "0.990 (+/-0.007) for {'C': 100, 'gamma': 0.001, 'kernel': 'rbf'}\n",
      "0.972 (+/-0.016) for {'C': 100, 'gamma': 0.001, 'kernel': 'linear'}\n",
      "0.985 (+/-0.006) for {'C': 100, 'gamma': 0.0001, 'kernel': 'rbf'}\n",
      "0.972 (+/-0.016) for {'C': 100, 'gamma': 0.0001, 'kernel': 'linear'}\n",
      "0.990 (+/-0.007) for {'C': 1000, 'gamma': 0.001, 'kernel': 'rbf'}\n",
      "0.972 (+/-0.016) for {'C': 1000, 'gamma': 0.001, 'kernel': 'linear'}\n",
      "0.985 (+/-0.006) for {'C': 1000, 'gamma': 0.0001, 'kernel': 'rbf'}\n",
      "0.972 (+/-0.016) for {'C': 1000, 'gamma': 0.0001, 'kernel': 'linear'}\n",
      "classification report\n",
      "              precision    recall  f1-score   support\n",
      "\n",
      "           0       1.00      1.00      1.00        33\n",
      "           1       1.00      1.00      1.00        28\n",
      "           2       1.00      1.00      1.00        33\n",
      "           3       1.00      0.97      0.99        34\n",
      "           4       1.00      1.00      1.00        46\n",
      "           5       0.98      0.98      0.98        47\n",
      "           6       0.97      1.00      0.99        35\n",
      "           7       0.97      0.97      0.97        34\n",
      "           8       1.00      1.00      1.00        30\n",
      "           9       0.97      0.97      0.97        40\n",
      "\n",
      "    accuracy                           0.99       360\n",
      "   macro avg       0.99      0.99      0.99       360\n",
      "weighted avg       0.99      0.99      0.99       360\n",
      "\n"
     ]
    }
   ],
   "source": [
    "# Grid Search using Precision\n",
    "import warnings\n",
    "warnings.filterwarnings(\"ignore\")\n",
    "\n",
    "grid_search(X_train,y_train,X_test,y_test,tuned_parameters,scores[0])"
   ]
  },
  {
   "cell_type": "code",
   "execution_count": 20,
   "id": "35b371e1",
   "metadata": {},
   "outputs": [
    {
     "name": "stdout",
     "output_type": "stream",
     "text": [
      "Turning hyperparameters for recall\n",
      "The Best hyperparameters found are the followings\n",
      "{'C': 10, 'gamma': 0.001, 'kernel': 'rbf'}\n",
      "Grid scores on development set:\n",
      "SVC(C=10, gamma=0.001)\n",
      "\n",
      "0.987 (+/-0.008) for {'C': 1, 'gamma': 0.001, 'kernel': 'rbf'}\n",
      "0.971 (+/-0.017) for {'C': 1, 'gamma': 0.001, 'kernel': 'linear'}\n",
      "0.969 (+/-0.020) for {'C': 1, 'gamma': 0.0001, 'kernel': 'rbf'}\n",
      "0.971 (+/-0.017) for {'C': 1, 'gamma': 0.0001, 'kernel': 'linear'}\n",
      "0.989 (+/-0.008) for {'C': 10, 'gamma': 0.001, 'kernel': 'rbf'}\n",
      "0.971 (+/-0.017) for {'C': 10, 'gamma': 0.001, 'kernel': 'linear'}\n",
      "0.982 (+/-0.014) for {'C': 10, 'gamma': 0.0001, 'kernel': 'rbf'}\n",
      "0.971 (+/-0.017) for {'C': 10, 'gamma': 0.0001, 'kernel': 'linear'}\n",
      "0.989 (+/-0.008) for {'C': 100, 'gamma': 0.001, 'kernel': 'rbf'}\n",
      "0.971 (+/-0.017) for {'C': 100, 'gamma': 0.001, 'kernel': 'linear'}\n",
      "0.984 (+/-0.007) for {'C': 100, 'gamma': 0.0001, 'kernel': 'rbf'}\n",
      "0.971 (+/-0.017) for {'C': 100, 'gamma': 0.0001, 'kernel': 'linear'}\n",
      "0.989 (+/-0.008) for {'C': 1000, 'gamma': 0.001, 'kernel': 'rbf'}\n",
      "0.971 (+/-0.017) for {'C': 1000, 'gamma': 0.001, 'kernel': 'linear'}\n",
      "0.984 (+/-0.007) for {'C': 1000, 'gamma': 0.0001, 'kernel': 'rbf'}\n",
      "0.971 (+/-0.017) for {'C': 1000, 'gamma': 0.0001, 'kernel': 'linear'}\n",
      "classification report\n",
      "              precision    recall  f1-score   support\n",
      "\n",
      "           0       1.00      1.00      1.00        33\n",
      "           1       1.00      1.00      1.00        28\n",
      "           2       1.00      1.00      1.00        33\n",
      "           3       1.00      0.97      0.99        34\n",
      "           4       1.00      1.00      1.00        46\n",
      "           5       0.98      0.98      0.98        47\n",
      "           6       0.97      1.00      0.99        35\n",
      "           7       0.97      0.97      0.97        34\n",
      "           8       1.00      1.00      1.00        30\n",
      "           9       0.97      0.97      0.97        40\n",
      "\n",
      "    accuracy                           0.99       360\n",
      "   macro avg       0.99      0.99      0.99       360\n",
      "weighted avg       0.99      0.99      0.99       360\n",
      "\n"
     ]
    }
   ],
   "source": [
    "# Grid Search using recall\n",
    "grid_search(X_train, y_train,X_test,y_test,tuned_parameters,scores[1])"
   ]
  },
  {
   "cell_type": "markdown",
   "id": "8570dc04",
   "metadata": {},
   "source": [
    "## AutoML"
   ]
  },
  {
   "cell_type": "code",
   "execution_count": null,
   "id": "f02049f2",
   "metadata": {},
   "outputs": [],
   "source": [
    "#import autosklearn.classification as automl"
   ]
  },
  {
   "cell_type": "code",
   "execution_count": null,
   "id": "214ae8d7",
   "metadata": {},
   "outputs": [],
   "source": [
    "#cls = automl.AutoSklearnClassifier(time_left_for_this_task =1*60,per_run_time_limit = 30,n_jobs=1)"
   ]
  },
  {
   "cell_type": "code",
   "execution_count": null,
   "id": "04c4fe1f",
   "metadata": {},
   "outputs": [],
   "source": [
    "#cls.fit(X_train,y_train)"
   ]
  },
  {
   "cell_type": "code",
   "execution_count": null,
   "id": "719250e4",
   "metadata": {},
   "outputs": [],
   "source": [
    "#print(cls.sprint_statistics())"
   ]
  },
  {
   "cell_type": "code",
   "execution_count": null,
   "id": "8435cbb6",
   "metadata": {},
   "outputs": [],
   "source": [
    "#predictions= cls.predict(X_test)"
   ]
  },
  {
   "cell_type": "code",
   "execution_count": null,
   "id": "edf633c3",
   "metadata": {},
   "outputs": [],
   "source": [
    "#accuracy_score (y_test,predictions)"
   ]
  }
 ],
 "metadata": {
  "kernelspec": {
   "display_name": "Python 3 (ipykernel)",
   "language": "python",
   "name": "python3"
  },
  "language_info": {
   "codemirror_mode": {
    "name": "ipython",
    "version": 3
   },
   "file_extension": ".py",
   "mimetype": "text/x-python",
   "name": "python",
   "nbconvert_exporter": "python",
   "pygments_lexer": "ipython3",
   "version": "3.8.12"
  }
 },
 "nbformat": 4,
 "nbformat_minor": 5
}
