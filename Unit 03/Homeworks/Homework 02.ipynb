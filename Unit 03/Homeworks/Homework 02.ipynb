{
 "cells": [
  {
   "cell_type": "markdown",
   "id": "1d72afa6",
   "metadata": {},
   "source": [
    "# Homework 02"
   ]
  },
  {
   "cell_type": "code",
   "execution_count": 1,
   "id": "87bc1f91",
   "metadata": {},
   "outputs": [],
   "source": [
    "from sklearn.datasets import load_iris\n",
    "\n",
    "iris = load_iris()"
   ]
  },
  {
   "cell_type": "code",
   "execution_count": 2,
   "id": "c8698dd3",
   "metadata": {},
   "outputs": [],
   "source": [
    "from sklearn.linear_model import LogisticRegression\n",
    "\n",
    "model = LogisticRegression()"
   ]
  },
  {
   "cell_type": "markdown",
   "id": "426521cc",
   "metadata": {},
   "source": [
    "### Training the model"
   ]
  },
  {
   "cell_type": "code",
   "execution_count": 3,
   "id": "93e8e73c",
   "metadata": {},
   "outputs": [
    {
     "name": "stderr",
     "output_type": "stream",
     "text": [
      "C:\\Users\\AT\\anaconda3\\envs\\tensorflow\\lib\\site-packages\\sklearn\\linear_model\\_logistic.py:814: ConvergenceWarning: lbfgs failed to converge (status=1):\n",
      "STOP: TOTAL NO. of ITERATIONS REACHED LIMIT.\n",
      "\n",
      "Increase the number of iterations (max_iter) or scale the data as shown in:\n",
      "    https://scikit-learn.org/stable/modules/preprocessing.html\n",
      "Please also refer to the documentation for alternative solver options:\n",
      "    https://scikit-learn.org/stable/modules/linear_model.html#logistic-regression\n",
      "  n_iter_i = _check_optimize_result(\n"
     ]
    },
    {
     "data": {
      "text/plain": [
       "LogisticRegression()"
      ]
     },
     "execution_count": 3,
     "metadata": {},
     "output_type": "execute_result"
    }
   ],
   "source": [
    "model.fit(iris.data, iris.target)"
   ]
  },
  {
   "cell_type": "markdown",
   "id": "9b1d07cf",
   "metadata": {},
   "source": [
    "### Using Metrics"
   ]
  },
  {
   "cell_type": "code",
   "execution_count": 7,
   "id": "98760fe1",
   "metadata": {},
   "outputs": [],
   "source": [
    "from sklearn.metrics import classification_report, confusion_matrix"
   ]
  },
  {
   "cell_type": "code",
   "execution_count": 9,
   "id": "40e4a2c4",
   "metadata": {},
   "outputs": [
    {
     "name": "stdout",
     "output_type": "stream",
     "text": [
      "Metrics report:\n",
      "               precision    recall  f1-score   support\n",
      "\n",
      "      setosa       1.00      1.00      1.00        50\n",
      "  versicolor       0.98      0.94      0.96        50\n",
      "   virginica       0.94      0.98      0.96        50\n",
      "\n",
      "    accuracy                           0.97       150\n",
      "   macro avg       0.97      0.97      0.97       150\n",
      "weighted avg       0.97      0.97      0.97       150\n",
      "\n",
      "[[50  0  0]\n",
      " [ 0 47  3]\n",
      " [ 0  1 49]]\n"
     ]
    }
   ],
   "source": [
    "target_pred = model.predict(iris.data)\n",
    "report = classification_report(iris.target,target_pred, target_names=iris.target_names)\n",
    "\n",
    "print(\"Metrics report:\\n\",report)\n",
    "print(confusion_matrix(iris.target, target_pred))"
   ]
  },
  {
   "cell_type": "code",
   "execution_count": 10,
   "id": "6416a789",
   "metadata": {},
   "outputs": [
    {
     "name": "stdout",
     "output_type": "stream",
     "text": [
      "Log Loss: 0.11945659836220292\n"
     ]
    }
   ],
   "source": [
    "target_pred_proba = model.predict_proba(iris.data)\n",
    "log_loss = metrics.log_loss(iris.target, target_pred_proba)\n",
    "\n",
    "print(\"Log Loss:\",log_loss)"
   ]
  },
  {
   "cell_type": "markdown",
   "id": "10c8f778",
   "metadata": {},
   "source": [
    "### Insights"
   ]
  },
  {
   "cell_type": "markdown",
   "id": "499ab0b5",
   "metadata": {},
   "source": [
    "* Our model correctly predicted the elements that belong to Setosa Spicies (We can clearly see that in the confuction matrix)\n",
    "* For the second class, Versicolor Spicies, our model correctly classified 47 of spicies as Versicolor, but it missed 3 of them (classified them as Virginia).\n",
    "* Similarly, our model correctly classified 49 of spicies as Virginica, but it missed 1 Virginia (It classified it as Versicolor).\n",
    "* We can clearly see that we have 3 classes.\n",
    "* Our model perfectly classified the elements of the first class (precision and recall are equal to 1). However, It missed some values in the remaining two classes.\n",
    "* We can say that the log loss is pretty close to zero, which means that our model is performing well!"
   ]
  }
 ],
 "metadata": {
  "kernelspec": {
   "display_name": "Python 3 (ipykernel)",
   "language": "python",
   "name": "python3"
  },
  "language_info": {
   "codemirror_mode": {
    "name": "ipython",
    "version": 3
   },
   "file_extension": ".py",
   "mimetype": "text/x-python",
   "name": "python",
   "nbconvert_exporter": "python",
   "pygments_lexer": "ipython3",
   "version": "3.8.12"
  }
 },
 "nbformat": 4,
 "nbformat_minor": 5
}
