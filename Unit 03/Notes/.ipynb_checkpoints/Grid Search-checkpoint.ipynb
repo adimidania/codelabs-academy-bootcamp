{
 "cells": [
  {
   "cell_type": "markdown",
   "id": "487f954f",
   "metadata": {},
   "source": [
    "# Grid Search"
   ]
  },
  {
   "cell_type": "code",
   "execution_count": 1,
   "id": "9002ec93",
   "metadata": {},
   "outputs": [],
   "source": [
    "from sklearn.datasets import load_breast_cancer\n",
    "from sklearn.svm import SVC\n",
    "from sklearn.model_selection import train_test_split\n",
    "from sklearn.model_selection import GridSearchCV\n",
    "from sklearn.metrics import classification_report\n",
    "from sklearn.naive_bayes import GaussianNB"
   ]
  },
  {
   "cell_type": "code",
   "execution_count": 2,
   "id": "bffccd8c",
   "metadata": {},
   "outputs": [],
   "source": [
    "# Load the data and split it into train , test \n",
    "data = load_breast_cancer()\n",
    "X = data.data \n",
    "Y = data.target\n",
    "X_train, X_test, y_train, y_test = train_test_split( X, Y, test_size=0.2, random_state=42)"
   ]
  },
  {
   "cell_type": "markdown",
   "id": "a6cf56df",
   "metadata": {},
   "source": [
    "The possible hyper parameters to tune around are :\n",
    "- The Kernal Function generally transforms the training set so that a non-linear decision surface is able to transformed to a linear equation in a higher number of dimension spaces.\n",
    "- Gamma defines how far the influence of a single training example reaches, with low values meaning 'far' and high values meaning 'close'.\n",
    "\n",
    "- C or regularization parameter. The strength of the regularization is inversely proportional to C. Must be strictly positive. The penalty is a squared l2 penalty.\n"
   ]
  },
  {
   "cell_type": "code",
   "execution_count": 3,
   "id": "264e36bf",
   "metadata": {},
   "outputs": [],
   "source": [
    "# Set the parameters by cross-validation\n",
    "tuned_parameters = [{'kernel': ['rbf','linear'], 'gamma': [1e-3, 1e-4],\n",
    "                     'C': [1, 10, 100, 1000]}]"
   ]
  },
  {
   "cell_type": "markdown",
   "id": "053ae5e0",
   "metadata": {},
   "source": [
    "The evaluation metric that we are relying on for the Grid search is the precision and the recall."
   ]
  },
  {
   "cell_type": "code",
   "execution_count": 4,
   "id": "64879146",
   "metadata": {},
   "outputs": [],
   "source": [
    "scores = ['precision', 'recall']"
   ]
  },
  {
   "cell_type": "code",
   "execution_count": 5,
   "id": "6ef0a116",
   "metadata": {},
   "outputs": [],
   "source": [
    "def grid_search(X_train, y_train, X_test, y_test, tunes_params, metric=\"precision\"):\n",
    "    print(\"# Tuning hyper-parameters for %s\" % metric)\n",
    "    clf = GridSearchCV(SVC(), tuned_parameters, scoring='%s_macro' % metric)\n",
    "    clf.fit(X_train, y_train)\n",
    "    print(\"Best params found \")\n",
    "    print(clf.best_params_)\n",
    "    print(\"Grid scores on development set:\")\n",
    "    print(clf.best_estimator_)\n",
    "    print()\n",
    "    means = clf.cv_results_['mean_test_score']\n",
    "    stds = clf.cv_results_['std_test_score']\n",
    "    for mean, std, params in zip(means, stds, clf.cv_results_['params']):\n",
    "        print(\"%0.3f (+/-%0.03f) for %r\"\n",
    "              % (mean, std * 2, params))\n",
    "        \n",
    "    print(\"classificationn report \")\n",
    "    y_true, y_pred = y_test, clf.predict(X_test)\n",
    "    print(classification_report(y_true, y_pred))\n",
    "    "
   ]
  },
  {
   "cell_type": "code",
   "execution_count": 6,
   "id": "eef4a3e0",
   "metadata": {},
   "outputs": [
    {
     "name": "stdout",
     "output_type": "stream",
     "text": [
      "# Tuning hyper-parameters for precision\n",
      "Best params found \n",
      "{'C': 100, 'gamma': 0.001, 'kernel': 'linear'}\n",
      "Grid scores on development set:\n",
      "SVC(C=100, gamma=0.001, kernel='linear')\n",
      "\n",
      "0.902 (+/-0.045) for {'C': 1, 'gamma': 0.001, 'kernel': 'rbf'}\n",
      "0.957 (+/-0.052) for {'C': 1, 'gamma': 0.001, 'kernel': 'linear'}\n",
      "0.933 (+/-0.046) for {'C': 1, 'gamma': 0.0001, 'kernel': 'rbf'}\n",
      "0.957 (+/-0.052) for {'C': 1, 'gamma': 0.0001, 'kernel': 'linear'}\n",
      "0.897 (+/-0.037) for {'C': 10, 'gamma': 0.001, 'kernel': 'rbf'}\n",
      "0.955 (+/-0.038) for {'C': 10, 'gamma': 0.001, 'kernel': 'linear'}\n",
      "0.954 (+/-0.041) for {'C': 10, 'gamma': 0.0001, 'kernel': 'rbf'}\n",
      "0.955 (+/-0.038) for {'C': 10, 'gamma': 0.0001, 'kernel': 'linear'}\n",
      "0.897 (+/-0.037) for {'C': 100, 'gamma': 0.001, 'kernel': 'rbf'}\n",
      "0.972 (+/-0.053) for {'C': 100, 'gamma': 0.001, 'kernel': 'linear'}\n",
      "0.942 (+/-0.031) for {'C': 100, 'gamma': 0.0001, 'kernel': 'rbf'}\n",
      "0.972 (+/-0.053) for {'C': 100, 'gamma': 0.0001, 'kernel': 'linear'}\n",
      "0.897 (+/-0.037) for {'C': 1000, 'gamma': 0.001, 'kernel': 'rbf'}\n",
      "0.968 (+/-0.034) for {'C': 1000, 'gamma': 0.001, 'kernel': 'linear'}\n",
      "0.921 (+/-0.055) for {'C': 1000, 'gamma': 0.0001, 'kernel': 'rbf'}\n",
      "0.968 (+/-0.034) for {'C': 1000, 'gamma': 0.0001, 'kernel': 'linear'}\n",
      "classificationn report \n",
      "              precision    recall  f1-score   support\n",
      "\n",
      "           0       0.97      0.91      0.94        43\n",
      "           1       0.95      0.99      0.97        71\n",
      "\n",
      "    accuracy                           0.96       114\n",
      "   macro avg       0.96      0.95      0.95       114\n",
      "weighted avg       0.96      0.96      0.96       114\n",
      "\n"
     ]
    }
   ],
   "source": [
    "# Grid search using only the precision \n",
    "\n",
    "grid_search(X_train,y_train,X_test,y_test,tuned_parameters,scores[0])"
   ]
  },
  {
   "cell_type": "code",
   "execution_count": null,
   "id": "8f10b83e",
   "metadata": {},
   "outputs": [],
   "source": [
    "#Grid search using the recall \n",
    "grid_search(X_train,y_train,X_test,y_test,tuned_parameters,scores[1])"
   ]
  }
 ],
 "metadata": {
  "kernelspec": {
   "display_name": "Python 3 (ipykernel)",
   "language": "python",
   "name": "python3"
  },
  "language_info": {
   "codemirror_mode": {
    "name": "ipython",
    "version": 3
   },
   "file_extension": ".py",
   "mimetype": "text/x-python",
   "name": "python",
   "nbconvert_exporter": "python",
   "pygments_lexer": "ipython3",
   "version": "3.8.12"
  }
 },
 "nbformat": 4,
 "nbformat_minor": 5
}
