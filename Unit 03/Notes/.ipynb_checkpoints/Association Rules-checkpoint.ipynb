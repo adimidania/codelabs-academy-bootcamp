{
 "cells": [
  {
   "cell_type": "code",
   "execution_count": 1,
   "id": "ee28efd3",
   "metadata": {},
   "outputs": [
    {
     "name": "stdout",
     "output_type": "stream",
     "text": [
      "Collecting mlxtend\n",
      "  Downloading mlxtend-0.19.0-py2.py3-none-any.whl (1.3 MB)\n",
      "Requirement already satisfied: joblib>=0.13.2 in c:\\users\\at\\anaconda3\\envs\\tensorflow\\lib\\site-packages (from mlxtend) (1.1.0)\n",
      "Requirement already satisfied: scikit-learn>=0.20.3 in c:\\users\\at\\anaconda3\\envs\\tensorflow\\lib\\site-packages (from mlxtend) (1.0.1)\n",
      "Requirement already satisfied: pandas>=0.24.2 in c:\\users\\at\\anaconda3\\envs\\tensorflow\\lib\\site-packages (from mlxtend) (1.3.5)\n",
      "Requirement already satisfied: scipy>=1.2.1 in c:\\users\\at\\anaconda3\\envs\\tensorflow\\lib\\site-packages (from mlxtend) (1.7.3)\n",
      "Requirement already satisfied: setuptools in c:\\users\\at\\anaconda3\\envs\\tensorflow\\lib\\site-packages (from mlxtend) (58.0.4)\n",
      "Requirement already satisfied: matplotlib>=3.0.0 in c:\\users\\at\\anaconda3\\envs\\tensorflow\\lib\\site-packages (from mlxtend) (3.5.1)\n",
      "Requirement already satisfied: numpy>=1.16.2 in c:\\users\\at\\anaconda3\\envs\\tensorflow\\lib\\site-packages (from mlxtend) (1.21.4)\n",
      "Requirement already satisfied: cycler>=0.10 in c:\\users\\at\\anaconda3\\envs\\tensorflow\\lib\\site-packages (from matplotlib>=3.0.0->mlxtend) (0.11.0)\n",
      "Requirement already satisfied: pillow>=6.2.0 in c:\\users\\at\\anaconda3\\envs\\tensorflow\\lib\\site-packages (from matplotlib>=3.0.0->mlxtend) (8.4.0)\n",
      "Requirement already satisfied: kiwisolver>=1.0.1 in c:\\users\\at\\anaconda3\\envs\\tensorflow\\lib\\site-packages (from matplotlib>=3.0.0->mlxtend) (1.3.2)\n",
      "Requirement already satisfied: pyparsing>=2.2.1 in c:\\users\\at\\anaconda3\\envs\\tensorflow\\lib\\site-packages (from matplotlib>=3.0.0->mlxtend) (3.0.4)\n",
      "Requirement already satisfied: packaging>=20.0 in c:\\users\\at\\anaconda3\\envs\\tensorflow\\lib\\site-packages (from matplotlib>=3.0.0->mlxtend) (21.3)\n",
      "Requirement already satisfied: fonttools>=4.22.0 in c:\\users\\at\\anaconda3\\envs\\tensorflow\\lib\\site-packages (from matplotlib>=3.0.0->mlxtend) (4.28.4)\n",
      "Requirement already satisfied: python-dateutil>=2.7 in c:\\users\\at\\anaconda3\\envs\\tensorflow\\lib\\site-packages (from matplotlib>=3.0.0->mlxtend) (2.8.2)\n",
      "Requirement already satisfied: pytz>=2017.3 in c:\\users\\at\\anaconda3\\envs\\tensorflow\\lib\\site-packages (from pandas>=0.24.2->mlxtend) (2021.3)\n",
      "Requirement already satisfied: six>=1.5 in c:\\users\\at\\anaconda3\\envs\\tensorflow\\lib\\site-packages (from python-dateutil>=2.7->matplotlib>=3.0.0->mlxtend) (1.16.0)\n",
      "Requirement already satisfied: threadpoolctl>=2.0.0 in c:\\users\\at\\anaconda3\\envs\\tensorflow\\lib\\site-packages (from scikit-learn>=0.20.3->mlxtend) (3.0.0)\n",
      "Installing collected packages: mlxtend\n",
      "Successfully installed mlxtend-0.19.0\n"
     ]
    }
   ],
   "source": [
    "!pip install mlxtend"
   ]
  },
  {
   "cell_type": "code",
   "execution_count": 2,
   "id": "593cc730",
   "metadata": {},
   "outputs": [],
   "source": [
    "import random\n",
    "import numpy as np\n",
    "import string\n",
    "import pandas as pd\n",
    "from mlxtend.frequent_patterns import apriori, association_rules, fpgrowth\n",
    "from mlxtend.preprocessing import TransactionEncoder"
   ]
  },
  {
   "cell_type": "code",
   "execution_count": 5,
   "id": "77991bc4",
   "metadata": {},
   "outputs": [],
   "source": [
    "vocab = ['A', 'B', 'C', 'D', 'E']\n",
    "max_length = len(vocab)\n",
    "N = 12"
   ]
  },
  {
   "cell_type": "code",
   "execution_count": 12,
   "id": "aa896393",
   "metadata": {},
   "outputs": [],
   "source": [
    "def create_dataset(vocab, N, max_length):\n",
    "    results = []\n",
    "    for i in range(N):\n",
    "        n_items = random.randint(1, max_length)\n",
    "        results.append([random.choice(vocab) for i in range(n_items)])\n",
    "    return results\n",
    "\n",
    "results = create_dataset(vocab, N, max_length)"
   ]
  },
  {
   "cell_type": "code",
   "execution_count": 13,
   "id": "9808a81e",
   "metadata": {},
   "outputs": [
    {
     "data": {
      "text/plain": [
       "[['E', 'A'],\n",
       " ['B', 'E', 'A', 'C'],\n",
       " ['A', 'C', 'C'],\n",
       " ['C'],\n",
       " ['D'],\n",
       " ['A', 'E'],\n",
       " ['D', 'D', 'E', 'C', 'C'],\n",
       " ['A', 'C', 'A', 'A', 'B'],\n",
       " ['A', 'E', 'B'],\n",
       " ['D'],\n",
       " ['D'],\n",
       " ['A', 'B', 'D']]"
      ]
     },
     "execution_count": 13,
     "metadata": {},
     "output_type": "execute_result"
    }
   ],
   "source": [
    "results"
   ]
  },
  {
   "cell_type": "code",
   "execution_count": null,
   "id": "8f70b185",
   "metadata": {},
   "outputs": [],
   "source": []
  }
 ],
 "metadata": {
  "kernelspec": {
   "display_name": "Python 3 (ipykernel)",
   "language": "python",
   "name": "python3"
  },
  "language_info": {
   "codemirror_mode": {
    "name": "ipython",
    "version": 3
   },
   "file_extension": ".py",
   "mimetype": "text/x-python",
   "name": "python",
   "nbconvert_exporter": "python",
   "pygments_lexer": "ipython3",
   "version": "3.8.12"
  }
 },
 "nbformat": 4,
 "nbformat_minor": 5
}
