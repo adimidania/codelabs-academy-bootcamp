{
 "cells": [
  {
   "cell_type": "markdown",
   "id": "33762461",
   "metadata": {},
   "source": [
    "# XOR Gate using NN"
   ]
  },
  {
   "cell_type": "markdown",
   "id": "dec2ff20",
   "metadata": {},
   "source": [
    "We are tackling a binary classification problem. The output layer will contain one node that will use the sigmoid activation function! "
   ]
  },
  {
   "cell_type": "code",
   "execution_count": 1,
   "id": "524a98d2",
   "metadata": {},
   "outputs": [],
   "source": [
    "import numpy as np\n",
    "np.random.seed(1)\n",
    "import matplotlib.pyplot as plt"
   ]
  },
  {
   "cell_type": "code",
   "execution_count": 2,
   "id": "5b0fa6a9",
   "metadata": {},
   "outputs": [],
   "source": [
    "X = np.array([[0,0], [0,1], [1,0], [1,1]])\n",
    "Y = np.array([[0], [1], [1], [0]])"
   ]
  },
  {
   "cell_type": "code",
   "execution_count": 3,
   "id": "f5d4380e",
   "metadata": {},
   "outputs": [
    {
     "data": {
      "text/plain": [
       "array([ True, False, False,  True])"
      ]
     },
     "execution_count": 3,
     "metadata": {},
     "output_type": "execute_result"
    }
   ],
   "source": [
    "Y.flatten() == 0"
   ]
  },
  {
   "cell_type": "code",
   "execution_count": 4,
   "id": "a32b2d09",
   "metadata": {},
   "outputs": [
    {
     "data": {
      "image/png": "[encoded data removed]",
      "text/plain": [
       "<Figure size 432x288 with 1 Axes>"
      ]
     },
     "metadata": {
      "needs_background": "light"
     },
     "output_type": "display_data"
    }
   ],
   "source": [
    "for i in range(2):\n",
    "    s = np.where(Y.flatten() == i)\n",
    "    plt.scatter(X[s].T[0], X[s].T[1], label=str(i))\n",
    "    \n",
    "plt.legend()\n",
    "plt.show()"
   ]
  },
  {
   "cell_type": "code",
   "execution_count": 5,
   "id": "375ea921",
   "metadata": {},
   "outputs": [],
   "source": [
    "def sigmoid(x):\n",
    "    return 1/(1+np.exp(-x))"
   ]
  },
  {
   "cell_type": "code",
   "execution_count": 6,
   "id": "12186109",
   "metadata": {},
   "outputs": [],
   "source": [
    "def initializeParametersHe(InputSize, HiddenLayerSize, OutputSize):\n",
    "    W1 = np.random.randn(HiddenLayerSize, InputSize)* np.sqrt(2/InputSize)\n",
    "    W2 = np.random.randn(OutputSize, HiddenLayerSize)* np.sqrt(2/HiddenLayerSize)\n",
    "    b1 = np.zeros((HiddenLayerSize, 1))\n",
    "    b2 = np.zeros((OutputSize, 1))\n",
    "    \n",
    "    parameters = {\"W1\": W1, \"W2\": W2, \"b1\": b1, \"b2\":b2}\n",
    "    return parameters"
   ]
  },
  {
   "cell_type": "code",
   "execution_count": 7,
   "id": "094678ee",
   "metadata": {},
   "outputs": [],
   "source": [
    "def forwardPass(X, Y, parameters):\n",
    "    W1, W2, b1, b2 = parameters[\"W1\"], parameters[\"W2\"], parameters[\"b1\"], parameters[\"b2\"]\n",
    "    Z1 = np.dot(X, W1.T) + b1.T\n",
    "    A1 = sigmoid(Z1)\n",
    "    Z2 = np.dot(A1, W2.T) + b2.T\n",
    "    A2 = sigmoid(Z2)\n",
    "    cache = (A1, Z1, W1, b1, A2, Z2, W2, b2)\n",
    "    cross_entropies= -(np.multiply(Y, np.log(A2))+np.multiply((1-Y), np.log(1-A2)))\n",
    "    cost= np.sum(cross_entropies)/X.shape[0]\n",
    "    return cost, cache, A2"
   ]
  },
  {
   "cell_type": "code",
   "execution_count": 8,
   "id": "ad92bec5",
   "metadata": {},
   "outputs": [],
   "source": [
    "def backwardPass(X, Y, cache):\n",
    "    m = X.shape[0]\n",
    "    (A1, Z1, W1, b1, A2, Z2, W2, b2) = cache\n",
    "    dZ2 = A2 - Y\n",
    "    dW2 = np.dot(dZ2.T, A2) / m\n",
    "    db2= np.sum(dZ2.T, axis=1,keepdims=True)\n",
    "    dA1=np.dot(dZ2,W2)\n",
    "    dZ1=np.multiply(dA1, A1*(1 - A1))\n",
    "    dW1=np.dot(dZ1.T, X)/m\n",
    "    db1=np.sum(dZ1.T, axis=1, keepdims=True) /m\n",
    "    \n",
    "    gradients={\"dZ2\":dZ2 , \"dW2\":dW2, \"db2\": db2,\"dZ1\":dZ1 , \"dW1\":dW1 , \"db1\": db1 }\n",
    "    \n",
    "    return gradients "
   ]
  },
  {
   "cell_type": "code",
   "execution_count": 9,
   "id": "e69a1247",
   "metadata": {},
   "outputs": [],
   "source": [
    "def GradientDescent(parameters, gradients, learningRate):\n",
    "    parameters[\"W1\"]=parameters[\"W1\"] - learningRate * gradients[\"dW1\"]\n",
    "    parameters[\"W2\"]=parameters[\"W2\"] - learningRate * gradients[\"dW2\"]\n",
    "    parameters[\"b1\"]=parameters[\"b1\"] - learningRate * gradients[\"db1\"]\n",
    "    parameters[\"b2\"]=parameters[\"b2\"] - learningRate * gradients[\"db2\"]\n",
    "    \n",
    "    return parameters"
   ]
  },
  {
   "cell_type": "code",
   "execution_count": 10,
   "id": "48be3d0c",
   "metadata": {},
   "outputs": [],
   "source": [
    "parameters = initializeParametersHe(2, 2, 1)"
   ]
  },
  {
   "cell_type": "code",
   "execution_count": 11,
   "id": "aa4673cb",
   "metadata": {},
   "outputs": [],
   "source": [
    "epoch= 100000\n",
    "learningRate=0.1\n",
    "losses=np.zeros((epoch,1))\n",
    "for i in range(epoch) :\n",
    "    losses[i, 0] ,cache, A2= forwardPass(X, Y,parameters)\n",
    "    gradients = backwardPass(X, Y, cache)\n",
    "    parameters= GradientDescent(parameters, gradients, learningRate)"
   ]
  },
  {
   "cell_type": "code",
   "execution_count": 12,
   "id": "10bda209",
   "metadata": {},
   "outputs": [
    {
     "data": {
      "image/png": "[encoded data removed]",
      "text/plain": [
       "<Figure size 432x288 with 1 Axes>"
      ]
     },
     "metadata": {
      "needs_background": "light"
     },
     "output_type": "display_data"
    }
   ],
   "source": [
    "plt.figure()\n",
    "plt.plot(losses)\n",
    "plt.xlabel(\"Epochs\")\n",
    "plt.ylabel(\"Loss Value\")\n",
    "plt.show()"
   ]
  },
  {
   "cell_type": "code",
   "execution_count": 13,
   "id": "1c24abe4",
   "metadata": {},
   "outputs": [
    {
     "name": "stdout",
     "output_type": "stream",
     "text": [
      "Accuracy: 1.0\n"
     ]
    }
   ],
   "source": [
    "from sklearn.metrics import accuracy_score\n",
    "_, _, A2= forwardPass(X,Y,parameters)\n",
    "y_test = Y\n",
    "y_pred = [1 if a > 0.5 else 0 for a in A2]\n",
    "print(\"Accuracy:\", accuracy_score(y_test,y_pred))"
   ]
  }
 ],
 "metadata": {
  "kernelspec": {
   "display_name": "Python 3 (ipykernel)",
   "language": "python",
   "name": "python3"
  },
  "language_info": {
   "codemirror_mode": {
    "name": "ipython",
    "version": 3
   },
   "file_extension": ".py",
   "mimetype": "text/x-python",
   "name": "python",
   "nbconvert_exporter": "python",
   "pygments_lexer": "ipython3",
   "version": "3.8.12"
  }
 },
 "nbformat": 4,
 "nbformat_minor": 5
}
